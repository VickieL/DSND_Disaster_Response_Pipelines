{
 "cells": [
  {
   "cell_type": "markdown",
   "metadata": {},
   "source": [
    "# ML Pipeline \n",
    "按照如下的指导要求，搭建你的机器学习管道。\n",
    "### 1. 导入与加载\n",
    "- 导入 Python 库\n",
    "- 使用 [`read_sql_table`](https://pandas.pydata.org/pandas-docs/stable/generated/pandas.read_sql_table.html) 从数据库中加载数据集\n",
    "- 定义特征变量X 和目标变量 Y"
   ]
  },
  {
   "cell_type": "code",
   "execution_count": 1,
   "metadata": {
    "collapsed": true
   },
   "outputs": [],
   "source": [
    "# import libraries\n",
    "import pandas as pd\n",
    "from sqlalchemy import create_engine\n",
    "import re\n",
    "from nltk.tokenize import word_tokenize\n",
    "from nltk.corpus import stopwords\n",
    "from nltk.stem.porter import PorterStemmer\n",
    "from nltk.stem import WordNetLemmatizer\n",
    "\n",
    "from sklearn.pipeline import Pipeline, FeatureUnion\n",
    "from sklearn.multioutput import MultiOutputClassifier\n",
    "from sklearn.neighbors import KNeighborsClassifier\n",
    "from sklearn.feature_extraction.text import CountVectorizer, TfidfTransformer\n",
    "from sklearn.model_selection import train_test_split\n",
    "from sklearn.metrics import classification_report\n",
    "from sklearn.model_selection import GridSearchCV\n",
    "\n",
    "from sklearn.externals import joblib\n",
    "import pickle"
   ]
  },
  {
   "cell_type": "code",
   "execution_count": 2,
   "metadata": {
    "collapsed": true
   },
   "outputs": [],
   "source": [
    "categories = ['related', 'request', 'offer', 'aid_related', 'medical_help', 'medical_products', 'search_and_rescue',\n",
    "        'security', 'military', 'child_alone', 'water', 'food', 'shelter', 'clothing', 'money',\n",
    "        'missing_people', 'refugees', 'death', 'other_aid', 'infrastructure_related', 'transport',\n",
    "        'buildings', 'electricity', 'tools', 'hospitals', 'shops', 'aid_centers', 'other_infrastructure',\n",
    "        'weather_related', 'floods', 'storm', 'fire', 'earthquake', 'cold', 'other_weather', 'direct_report']"
   ]
  },
  {
   "cell_type": "code",
   "execution_count": 3,
   "metadata": {
    "collapsed": false
   },
   "outputs": [],
   "source": [
    "# load data from database\n",
    "engine = create_engine('sqlite:///DisasterResponse.db')\n",
    "df = pd.read_sql_table('messages_categories', engine)\n",
    "#X = df[['message']]\n",
    "X = df.message.values\n",
    "y = df[categories].values\n"
   ]
  },
  {
   "cell_type": "code",
   "execution_count": 4,
   "metadata": {
    "collapsed": false,
    "scrolled": true
   },
   "outputs": [
    {
     "data": {
      "text/plain": [
       "(26180,)"
      ]
     },
     "execution_count": 4,
     "metadata": {},
     "output_type": "execute_result"
    }
   ],
   "source": [
    "X.shape"
   ]
  },
  {
   "cell_type": "code",
   "execution_count": 5,
   "metadata": {
    "collapsed": false
   },
   "outputs": [
    {
     "data": {
      "text/plain": [
       "(26180, 36)"
      ]
     },
     "execution_count": 5,
     "metadata": {},
     "output_type": "execute_result"
    }
   ],
   "source": [
    "y.shape"
   ]
  },
  {
   "cell_type": "code",
   "execution_count": 6,
   "metadata": {
    "collapsed": false
   },
   "outputs": [
    {
     "data": {
      "text/html": [
       "<div>\n",
       "<table border=\"1\" class=\"dataframe\">\n",
       "  <thead>\n",
       "    <tr style=\"text-align: right;\">\n",
       "      <th></th>\n",
       "      <th>id</th>\n",
       "      <th>message</th>\n",
       "      <th>original</th>\n",
       "      <th>genre</th>\n",
       "      <th>related</th>\n",
       "      <th>request</th>\n",
       "      <th>offer</th>\n",
       "      <th>aid_related</th>\n",
       "      <th>medical_help</th>\n",
       "      <th>medical_products</th>\n",
       "      <th>...</th>\n",
       "      <th>aid_centers</th>\n",
       "      <th>other_infrastructure</th>\n",
       "      <th>weather_related</th>\n",
       "      <th>floods</th>\n",
       "      <th>storm</th>\n",
       "      <th>fire</th>\n",
       "      <th>earthquake</th>\n",
       "      <th>cold</th>\n",
       "      <th>other_weather</th>\n",
       "      <th>direct_report</th>\n",
       "    </tr>\n",
       "  </thead>\n",
       "  <tbody>\n",
       "    <tr>\n",
       "      <th>117</th>\n",
       "      <td>146</td>\n",
       "      <td>Dans la zone de Saint Etienne la route de Jacm...</td>\n",
       "      <td>Nan zon st. etine rout jakmel la bloke se mize...</td>\n",
       "      <td>direct</td>\n",
       "      <td>2</td>\n",
       "      <td>0</td>\n",
       "      <td>0</td>\n",
       "      <td>0</td>\n",
       "      <td>0</td>\n",
       "      <td>0</td>\n",
       "      <td>...</td>\n",
       "      <td>0</td>\n",
       "      <td>0</td>\n",
       "      <td>0</td>\n",
       "      <td>0</td>\n",
       "      <td>0</td>\n",
       "      <td>0</td>\n",
       "      <td>0</td>\n",
       "      <td>0</td>\n",
       "      <td>0</td>\n",
       "      <td>0</td>\n",
       "    </tr>\n",
       "    <tr>\n",
       "      <th>218</th>\n",
       "      <td>263</td>\n",
       "      <td>. .. i with limited means. Certain patients co...</td>\n",
       "      <td>t avec des moyens limites. Certains patients v...</td>\n",
       "      <td>direct</td>\n",
       "      <td>2</td>\n",
       "      <td>0</td>\n",
       "      <td>0</td>\n",
       "      <td>0</td>\n",
       "      <td>0</td>\n",
       "      <td>0</td>\n",
       "      <td>...</td>\n",
       "      <td>0</td>\n",
       "      <td>0</td>\n",
       "      <td>0</td>\n",
       "      <td>0</td>\n",
       "      <td>0</td>\n",
       "      <td>0</td>\n",
       "      <td>0</td>\n",
       "      <td>0</td>\n",
       "      <td>0</td>\n",
       "      <td>0</td>\n",
       "    </tr>\n",
       "    <tr>\n",
       "      <th>304</th>\n",
       "      <td>373</td>\n",
       "      <td>The internet caf Net@le that's by the Dal road...</td>\n",
       "      <td>Cyber cafe net@le ki chita rout de dal tou pr ...</td>\n",
       "      <td>direct</td>\n",
       "      <td>2</td>\n",
       "      <td>0</td>\n",
       "      <td>0</td>\n",
       "      <td>0</td>\n",
       "      <td>0</td>\n",
       "      <td>0</td>\n",
       "      <td>...</td>\n",
       "      <td>0</td>\n",
       "      <td>0</td>\n",
       "      <td>0</td>\n",
       "      <td>0</td>\n",
       "      <td>0</td>\n",
       "      <td>0</td>\n",
       "      <td>0</td>\n",
       "      <td>0</td>\n",
       "      <td>0</td>\n",
       "      <td>0</td>\n",
       "    </tr>\n",
       "    <tr>\n",
       "      <th>459</th>\n",
       "      <td>565</td>\n",
       "      <td>Bonsoir, on est a bon repos aprs la compagnie ...</td>\n",
       "      <td>Bonswa nou nan bon repo apri teleko nan wout t...</td>\n",
       "      <td>direct</td>\n",
       "      <td>2</td>\n",
       "      <td>0</td>\n",
       "      <td>0</td>\n",
       "      <td>0</td>\n",
       "      <td>0</td>\n",
       "      <td>0</td>\n",
       "      <td>...</td>\n",
       "      <td>0</td>\n",
       "      <td>0</td>\n",
       "      <td>0</td>\n",
       "      <td>0</td>\n",
       "      <td>0</td>\n",
       "      <td>0</td>\n",
       "      <td>0</td>\n",
       "      <td>0</td>\n",
       "      <td>0</td>\n",
       "      <td>0</td>\n",
       "    </tr>\n",
       "    <tr>\n",
       "      <th>575</th>\n",
       "      <td>700</td>\n",
       "      <td>URGENT CRECHE ORPHANAGE KAY TOUT TIMOUN CROIX ...</td>\n",
       "      <td>r et Salon Furterer. mwen se yon Cosmtologue. ...</td>\n",
       "      <td>direct</td>\n",
       "      <td>2</td>\n",
       "      <td>0</td>\n",
       "      <td>0</td>\n",
       "      <td>0</td>\n",
       "      <td>0</td>\n",
       "      <td>0</td>\n",
       "      <td>...</td>\n",
       "      <td>0</td>\n",
       "      <td>0</td>\n",
       "      <td>0</td>\n",
       "      <td>0</td>\n",
       "      <td>0</td>\n",
       "      <td>0</td>\n",
       "      <td>0</td>\n",
       "      <td>0</td>\n",
       "      <td>0</td>\n",
       "      <td>0</td>\n",
       "    </tr>\n",
       "  </tbody>\n",
       "</table>\n",
       "<p>5 rows × 40 columns</p>\n",
       "</div>"
      ],
      "text/plain": [
       "      id                                            message  \\\n",
       "117  146  Dans la zone de Saint Etienne la route de Jacm...   \n",
       "218  263  . .. i with limited means. Certain patients co...   \n",
       "304  373  The internet caf Net@le that's by the Dal road...   \n",
       "459  565  Bonsoir, on est a bon repos aprs la compagnie ...   \n",
       "575  700  URGENT CRECHE ORPHANAGE KAY TOUT TIMOUN CROIX ...   \n",
       "\n",
       "                                              original   genre  related  \\\n",
       "117  Nan zon st. etine rout jakmel la bloke se mize...  direct        2   \n",
       "218  t avec des moyens limites. Certains patients v...  direct        2   \n",
       "304  Cyber cafe net@le ki chita rout de dal tou pr ...  direct        2   \n",
       "459  Bonswa nou nan bon repo apri teleko nan wout t...  direct        2   \n",
       "575  r et Salon Furterer. mwen se yon Cosmtologue. ...  direct        2   \n",
       "\n",
       "     request  offer  aid_related  medical_help  medical_products  \\\n",
       "117        0      0            0             0                 0   \n",
       "218        0      0            0             0                 0   \n",
       "304        0      0            0             0                 0   \n",
       "459        0      0            0             0                 0   \n",
       "575        0      0            0             0                 0   \n",
       "\n",
       "         ...        aid_centers  other_infrastructure  weather_related  \\\n",
       "117      ...                  0                     0                0   \n",
       "218      ...                  0                     0                0   \n",
       "304      ...                  0                     0                0   \n",
       "459      ...                  0                     0                0   \n",
       "575      ...                  0                     0                0   \n",
       "\n",
       "     floods  storm  fire  earthquake  cold  other_weather  direct_report  \n",
       "117       0      0     0           0     0              0              0  \n",
       "218       0      0     0           0     0              0              0  \n",
       "304       0      0     0           0     0              0              0  \n",
       "459       0      0     0           0     0              0              0  \n",
       "575       0      0     0           0     0              0              0  \n",
       "\n",
       "[5 rows x 40 columns]"
      ]
     },
     "execution_count": 6,
     "metadata": {},
     "output_type": "execute_result"
    }
   ],
   "source": [
    "# test\n",
    "df = df[(df['related'] == 2)]\n",
    "df.head()"
   ]
  },
  {
   "cell_type": "markdown",
   "metadata": {},
   "source": [
    "### 2. 编写分词函数，开始处理文本"
   ]
  },
  {
   "cell_type": "code",
   "execution_count": 5,
   "metadata": {
    "collapsed": true
   },
   "outputs": [],
   "source": [
    "def tokenize(text):\n",
    "    # Normalize text\n",
    "    text = re.sub(r\"[^a-zA-Z0-9]\", \" \", text)\n",
    "    \n",
    "    # # Tokenize text\n",
    "    words = word_tokenize(text)\n",
    "    \n",
    "    # Remove stop words\n",
    "    words = [w for w in words if w not in stopwords.words(\"english\")]\n",
    "    \n",
    "    # reduce words to their stems\n",
    "    # stemmed = [PorterStemmer().stem(w).lower().strip() for w in words]\n",
    "    \n",
    "    lemmatizer = WordNetLemmatizer()\n",
    "    \n",
    "    clean_tokens = []\n",
    "    for tok in words:\n",
    "        clean_tok = lemmatizer.lemmatize(tok).lower().strip()\n",
    "        clean_tokens.append(clean_tok)\n",
    "    \n",
    "    return clean_tokens\n",
    "    "
   ]
  },
  {
   "cell_type": "markdown",
   "metadata": {},
   "source": [
    "### 3. 创建机器学习管道 \n",
    "这个机器学习管道应该接收 `message` 列作输入，输出分类结果，分类结果属于该数据集中的 36 个类。你会发现 [MultiOutputClassifier](http://scikit-learn.org/stable/modules/generated/sklearn.multioutput.MultiOutputClassifier.html) 在预测多目标变量时很有用。"
   ]
  },
  {
   "cell_type": "code",
   "execution_count": 6,
   "metadata": {
    "collapsed": false
   },
   "outputs": [],
   "source": [
    "pipeline = Pipeline([\n",
    "        ('vect', CountVectorizer(tokenizer=tokenize)),\n",
    "        ('tfidf', TfidfTransformer()),\n",
    "        ('clf', MultiOutputClassifier(KNeighborsClassifier()))\n",
    "    ])"
   ]
  },
  {
   "cell_type": "markdown",
   "metadata": {},
   "source": [
    "### 4. 训练管道\n",
    "- 将数据分割成训练和测试集\n",
    "- 训练管道"
   ]
  },
  {
   "cell_type": "code",
   "execution_count": 11,
   "metadata": {
    "collapsed": false
   },
   "outputs": [
    {
     "data": {
      "text/plain": [
       "(19635,)"
      ]
     },
     "execution_count": 11,
     "metadata": {},
     "output_type": "execute_result"
    }
   ],
   "source": [
    "X_train.shape"
   ]
  },
  {
   "cell_type": "code",
   "execution_count": 12,
   "metadata": {
    "collapsed": false
   },
   "outputs": [
    {
     "data": {
      "text/plain": [
       "(19635, 36)"
      ]
     },
     "execution_count": 12,
     "metadata": {},
     "output_type": "execute_result"
    }
   ],
   "source": [
    "y_train.shape"
   ]
  },
  {
   "cell_type": "code",
   "execution_count": 7,
   "metadata": {
    "collapsed": true
   },
   "outputs": [],
   "source": [
    "X_train, X_test, y_train, y_test = train_test_split(X, y)\n"
   ]
  },
  {
   "cell_type": "code",
   "execution_count": 13,
   "metadata": {
    "collapsed": false
   },
   "outputs": [
    {
     "name": "stdout",
     "output_type": "stream",
     "text": [
      "CPU times: user 45.8 s, sys: 9.61 s, total: 55.4 s\n",
      "Wall time: 57.9 s\n"
     ]
    },
    {
     "data": {
      "text/plain": [
       "Pipeline(memory=None,\n",
       "     steps=[('vect', CountVectorizer(analyzer='word', binary=False, decode_error='strict',\n",
       "        dtype=<class 'numpy.int64'>, encoding='utf-8', input='content',\n",
       "        lowercase=True, max_df=1.0, max_features=None, min_df=1,\n",
       "        ngram_range=(1, 1), preprocessor=None, stop_words=None,\n",
       "        strip...ric_params=None, n_jobs=1, n_neighbors=5, p=2,\n",
       "           weights='uniform'),\n",
       "           n_jobs=1))])"
      ]
     },
     "execution_count": 13,
     "metadata": {},
     "output_type": "execute_result"
    }
   ],
   "source": [
    "%%time\n",
    "# train classifier\n",
    "pipeline.fit(X_train, y_train)"
   ]
  },
  {
   "cell_type": "code",
   "execution_count": 14,
   "metadata": {
    "collapsed": true
   },
   "outputs": [],
   "source": [
    "%%time\n",
    "# predict on test data\n",
    "y_pred = pipeline.predict(X_test)"
   ]
  },
  {
   "cell_type": "markdown",
   "metadata": {},
   "source": [
    "### 5. 测试模型\n",
    "报告数据集中每个输出类别的 f1 得分、准确度和召回率。你可以对列进行遍历，并对每个元素调用 sklearn 的 `classification_report`。"
   ]
  },
  {
   "cell_type": "code",
   "execution_count": 77,
   "metadata": {
    "collapsed": false
   },
   "outputs": [
    {
     "data": {
      "text/plain": [
       "array([1, 1, 1, ..., 1, 1, 1])"
      ]
     },
     "execution_count": 77,
     "metadata": {},
     "output_type": "execute_result"
    }
   ],
   "source": [
    "y_test[:,0]"
   ]
  },
  {
   "cell_type": "code",
   "execution_count": 15,
   "metadata": {
    "collapsed": false
   },
   "outputs": [
    {
     "name": "stdout",
     "output_type": "stream",
     "text": [
      "Categories: related\n",
      "             precision    recall  f1-score   support\n",
      "\n",
      "          0       0.67      0.11      0.19      1594\n",
      "          1       0.82      0.07      0.13      4899\n",
      "          2       0.01      0.96      0.02        52\n",
      "\n",
      "avg / total       0.78      0.09      0.15      6545\n",
      "\n",
      "Categories: request\n",
      "             precision    recall  f1-score   support\n",
      "\n",
      "          0       0.84      0.99      0.91      5446\n",
      "          1       0.73      0.09      0.15      1099\n",
      "\n",
      "avg / total       0.82      0.84      0.79      6545\n",
      "\n",
      "Categories: offer\n",
      "             precision    recall  f1-score   support\n",
      "\n",
      "          0       1.00      1.00      1.00      6516\n",
      "          1       0.00      0.00      0.00        29\n",
      "\n",
      "avg / total       0.99      1.00      0.99      6545\n",
      "\n",
      "Categories: aid_related\n",
      "             precision    recall  f1-score   support\n",
      "\n",
      "          0       0.60      0.99      0.75      3895\n",
      "          1       0.72      0.04      0.08      2650\n",
      "\n",
      "avg / total       0.65      0.61      0.48      6545\n",
      "\n",
      "Categories: medical_help\n",
      "             precision    recall  f1-score   support\n",
      "\n",
      "          0       0.92      1.00      0.96      6033\n",
      "          1       0.00      0.00      0.00       512\n",
      "\n",
      "avg / total       0.85      0.92      0.88      6545\n",
      "\n",
      "Categories: medical_products\n",
      "             precision    recall  f1-score   support\n",
      "\n",
      "          0       0.95      1.00      0.98      6234\n",
      "          1       0.56      0.02      0.03       311\n",
      "\n",
      "avg / total       0.93      0.95      0.93      6545\n",
      "\n",
      "Categories: search_and_rescue\n",
      "             precision    recall  f1-score   support\n",
      "\n",
      "          0       0.97      1.00      0.99      6355\n",
      "          1       0.00      0.00      0.00       190\n",
      "\n",
      "avg / total       0.94      0.97      0.96      6545\n",
      "\n",
      "Categories: security\n",
      "             precision    recall  f1-score   support\n",
      "\n",
      "          0       0.98      1.00      0.99      6412\n",
      "          1       0.00      0.00      0.00       133\n",
      "\n",
      "avg / total       0.96      0.98      0.97      6545\n",
      "\n",
      "Categories: military\n",
      "             precision    recall  f1-score   support\n",
      "\n",
      "          0       0.97      1.00      0.98      6331\n",
      "          1       0.00      0.00      0.00       214\n",
      "\n",
      "avg / total       0.94      0.97      0.95      6545\n",
      "\n",
      "Categories: child_alone\n",
      "             precision    recall  f1-score   support\n",
      "\n",
      "          0       1.00      1.00      1.00      6545\n",
      "\n",
      "avg / total       1.00      1.00      1.00      6545\n",
      "\n",
      "Categories: water\n",
      "             precision    recall  f1-score   support\n",
      "\n",
      "          0       0.94      1.00      0.97      6144\n",
      "          1       0.84      0.04      0.08       401\n",
      "\n",
      "avg / total       0.93      0.94      0.91      6545\n",
      "\n",
      "Categories: food\n",
      "             precision    recall  f1-score   support\n",
      "\n",
      "          0       0.90      1.00      0.95      5859\n",
      "          1       0.74      0.07      0.13       686\n",
      "\n",
      "avg / total       0.88      0.90      0.86      6545\n",
      "\n",
      "Categories: shelter\n",
      "             precision    recall  f1-score   support\n",
      "\n",
      "          0       0.91      1.00      0.95      5944\n",
      "          1       0.96      0.04      0.08       601\n",
      "\n",
      "avg / total       0.92      0.91      0.87      6545\n",
      "\n",
      "Categories: clothing\n",
      "             precision    recall  f1-score   support\n",
      "\n",
      "          0       0.99      1.00      0.99      6449\n",
      "          1       1.00      0.02      0.04        96\n",
      "\n",
      "avg / total       0.99      0.99      0.98      6545\n",
      "\n",
      "Categories: money\n",
      "             precision    recall  f1-score   support\n",
      "\n",
      "          0       0.98      1.00      0.99      6405\n",
      "          1       0.00      0.00      0.00       140\n",
      "\n",
      "avg / total       0.96      0.98      0.97      6545\n",
      "\n",
      "Categories: missing_people\n",
      "             precision    recall  f1-score   support\n",
      "\n",
      "          0       0.99      1.00      0.99      6470\n",
      "          1       0.00      0.00      0.00        75\n",
      "\n",
      "avg / total       0.98      0.99      0.98      6545\n",
      "\n",
      "Categories: refugees\n",
      "             precision    recall  f1-score   support\n",
      "\n",
      "          0       0.97      1.00      0.98      6334\n",
      "          1       0.00      0.00      0.00       211\n",
      "\n",
      "avg / total       0.94      0.97      0.95      6545\n",
      "\n",
      "Categories: death\n",
      "             precision    recall  f1-score   support\n",
      "\n",
      "          0       0.96      1.00      0.98      6255\n",
      "          1       1.00      0.03      0.05       290\n",
      "\n",
      "avg / total       0.96      0.96      0.94      6545\n",
      "\n",
      "Categories: other_aid\n",
      "             precision    recall  f1-score   support\n",
      "\n",
      "          0       0.87      1.00      0.93      5706\n",
      "          1       0.39      0.02      0.03       839\n",
      "\n",
      "avg / total       0.81      0.87      0.82      6545\n",
      "\n",
      "Categories: infrastructure_related\n",
      "             precision    recall  f1-score   support\n",
      "\n",
      "          0       0.93      1.00      0.97      6112\n",
      "          1       0.50      0.00      0.00       433\n",
      "\n",
      "avg / total       0.91      0.93      0.90      6545\n",
      "\n",
      "Categories: transport\n",
      "             precision    recall  f1-score   support\n",
      "\n",
      "          0       0.95      1.00      0.98      6245\n",
      "          1       0.00      0.00      0.00       300\n",
      "\n",
      "avg / total       0.91      0.95      0.93      6545\n",
      "\n",
      "Categories: buildings\n",
      "             precision    recall  f1-score   support\n",
      "\n",
      "          0       0.95      1.00      0.97      6211\n",
      "          1       0.67      0.01      0.02       334\n",
      "\n",
      "avg / total       0.94      0.95      0.93      6545\n",
      "\n",
      "Categories: electricity\n",
      "             precision    recall  f1-score   support\n",
      "\n",
      "          0       0.98      1.00      0.99      6412\n",
      "          1       0.00      0.00      0.00       133\n",
      "\n",
      "avg / total       0.96      0.98      0.97      6545\n",
      "\n",
      "Categories: tools\n",
      "             precision    recall  f1-score   support\n",
      "\n",
      "          0       0.99      1.00      1.00      6504\n",
      "          1       0.00      0.00      0.00        41\n",
      "\n",
      "avg / total       0.99      0.99      0.99      6545\n",
      "\n",
      "Categories: hospitals\n",
      "             precision    recall  f1-score   support\n",
      "\n",
      "          0       0.99      1.00      0.99      6477\n",
      "          1       0.00      0.00      0.00        68\n",
      "\n",
      "avg / total       0.98      0.99      0.98      6545\n",
      "\n",
      "Categories: shops\n",
      "             precision    recall  f1-score   support\n",
      "\n",
      "          0       0.99      1.00      1.00      6509\n",
      "          1       0.00      0.00      0.00        36\n",
      "\n",
      "avg / total       0.99      0.99      0.99      6545\n",
      "\n",
      "Categories: aid_centers\n",
      "             precision    recall  f1-score   support\n",
      "\n",
      "          0       0.99      1.00      0.99      6464\n",
      "          1       0.00      0.00      0.00        81\n",
      "\n",
      "avg / total       0.98      0.99      0.98      6545\n",
      "\n",
      "Categories: other_infrastructure\n",
      "             precision    recall  f1-score   support\n",
      "\n",
      "          0       0.96      1.00      0.98      6251\n",
      "          1       0.50      0.00      0.01       294\n",
      "\n",
      "avg / total       0.93      0.96      0.93      6545\n",
      "\n",
      "Categories: weather_related\n",
      "             precision    recall  f1-score   support\n",
      "\n",
      "          0       0.74      0.99      0.85      4752\n",
      "          1       0.77      0.06      0.10      1793\n",
      "\n",
      "avg / total       0.75      0.74      0.64      6545\n",
      "\n",
      "Categories: floods\n",
      "             precision    recall  f1-score   support\n",
      "\n",
      "          0       0.92      1.00      0.96      6032\n",
      "          1       1.00      0.01      0.01       513\n",
      "\n",
      "avg / total       0.93      0.92      0.89      6545\n",
      "\n",
      "Categories: storm\n",
      "             precision    recall  f1-score   support\n",
      "\n",
      "          0       0.91      1.00      0.95      5943\n",
      "          1       0.79      0.02      0.04       602\n",
      "\n",
      "avg / total       0.90      0.91      0.87      6545\n",
      "\n",
      "Categories: fire\n",
      "             precision    recall  f1-score   support\n",
      "\n",
      "          0       0.99      1.00      0.99      6468\n",
      "          1       0.00      0.00      0.00        77\n",
      "\n",
      "avg / total       0.98      0.99      0.98      6545\n",
      "\n",
      "Categories: earthquake\n",
      "             precision    recall  f1-score   support\n",
      "\n",
      "          0       0.92      1.00      0.96      5944\n",
      "          1       0.75      0.13      0.22       601\n",
      "\n",
      "avg / total       0.90      0.92      0.89      6545\n",
      "\n",
      "Categories: cold\n",
      "             precision    recall  f1-score   support\n",
      "\n",
      "          0       0.98      1.00      0.99      6426\n",
      "          1       0.00      0.00      0.00       119\n",
      "\n",
      "avg / total       0.96      0.98      0.97      6545\n",
      "\n",
      "Categories: other_weather\n",
      "             precision    recall  f1-score   support\n",
      "\n",
      "          0       0.95      1.00      0.97      6193\n",
      "          1       0.67      0.01      0.01       352\n",
      "\n",
      "avg / total       0.93      0.95      0.92      6545\n",
      "\n"
     ]
    },
    {
     "name": "stderr",
     "output_type": "stream",
     "text": [
      "/Users/vickieliu/anaconda/lib/python3.5/site-packages/sklearn/metrics/classification.py:1135: UndefinedMetricWarning: Precision and F-score are ill-defined and being set to 0.0 in labels with no predicted samples.\n",
      "  'precision', 'predicted', average, warn_for)\n"
     ]
    }
   ],
   "source": [
    "for i in range(0,35):\n",
    "    print(\"Categories:\", categories[i])\n",
    "    print(classification_report(y_test[:,i], y_pred[:,i]))"
   ]
  },
  {
   "cell_type": "markdown",
   "metadata": {},
   "source": [
    "### 6. 优化模型\n",
    "使用网格搜索来找到最优的参数组合。 "
   ]
  },
  {
   "cell_type": "code",
   "execution_count": 12,
   "metadata": {
    "collapsed": false
   },
   "outputs": [
    {
     "data": {
      "text/plain": [
       "{'clf': MultiOutputClassifier(estimator=KNeighborsClassifier(algorithm='auto', leaf_size=30, metric='minkowski',\n",
       "            metric_params=None, n_jobs=1, n_neighbors=5, p=2,\n",
       "            weights='uniform'),\n",
       "            n_jobs=1),\n",
       " 'clf__estimator': KNeighborsClassifier(algorithm='auto', leaf_size=30, metric='minkowski',\n",
       "            metric_params=None, n_jobs=1, n_neighbors=5, p=2,\n",
       "            weights='uniform'),\n",
       " 'clf__estimator__algorithm': 'auto',\n",
       " 'clf__estimator__leaf_size': 30,\n",
       " 'clf__estimator__metric': 'minkowski',\n",
       " 'clf__estimator__metric_params': None,\n",
       " 'clf__estimator__n_jobs': 1,\n",
       " 'clf__estimator__n_neighbors': 5,\n",
       " 'clf__estimator__p': 2,\n",
       " 'clf__estimator__weights': 'uniform',\n",
       " 'clf__n_jobs': 1,\n",
       " 'memory': None,\n",
       " 'steps': [('vect',\n",
       "   CountVectorizer(analyzer='word', binary=False, decode_error='strict',\n",
       "           dtype=<class 'numpy.int64'>, encoding='utf-8', input='content',\n",
       "           lowercase=True, max_df=1.0, max_features=None, min_df=1,\n",
       "           ngram_range=(1, 1), preprocessor=None, stop_words=None,\n",
       "           strip_accents=None, token_pattern='(?u)\\\\b\\\\w\\\\w+\\\\b',\n",
       "           tokenizer=<function tokenize at 0x123fdb268>, vocabulary=None)),\n",
       "  ('tfidf',\n",
       "   TfidfTransformer(norm='l2', smooth_idf=True, sublinear_tf=False, use_idf=True)),\n",
       "  ('clf',\n",
       "   MultiOutputClassifier(estimator=KNeighborsClassifier(algorithm='auto', leaf_size=30, metric='minkowski',\n",
       "              metric_params=None, n_jobs=1, n_neighbors=5, p=2,\n",
       "              weights='uniform'),\n",
       "              n_jobs=1))],\n",
       " 'tfidf': TfidfTransformer(norm='l2', smooth_idf=True, sublinear_tf=False, use_idf=True),\n",
       " 'tfidf__norm': 'l2',\n",
       " 'tfidf__smooth_idf': True,\n",
       " 'tfidf__sublinear_tf': False,\n",
       " 'tfidf__use_idf': True,\n",
       " 'vect': CountVectorizer(analyzer='word', binary=False, decode_error='strict',\n",
       "         dtype=<class 'numpy.int64'>, encoding='utf-8', input='content',\n",
       "         lowercase=True, max_df=1.0, max_features=None, min_df=1,\n",
       "         ngram_range=(1, 1), preprocessor=None, stop_words=None,\n",
       "         strip_accents=None, token_pattern='(?u)\\\\b\\\\w\\\\w+\\\\b',\n",
       "         tokenizer=<function tokenize at 0x123fdb268>, vocabulary=None),\n",
       " 'vect__analyzer': 'word',\n",
       " 'vect__binary': False,\n",
       " 'vect__decode_error': 'strict',\n",
       " 'vect__dtype': numpy.int64,\n",
       " 'vect__encoding': 'utf-8',\n",
       " 'vect__input': 'content',\n",
       " 'vect__lowercase': True,\n",
       " 'vect__max_df': 1.0,\n",
       " 'vect__max_features': None,\n",
       " 'vect__min_df': 1,\n",
       " 'vect__ngram_range': (1, 1),\n",
       " 'vect__preprocessor': None,\n",
       " 'vect__stop_words': None,\n",
       " 'vect__strip_accents': None,\n",
       " 'vect__token_pattern': '(?u)\\\\b\\\\w\\\\w+\\\\b',\n",
       " 'vect__tokenizer': <function __main__.tokenize>,\n",
       " 'vect__vocabulary': None}"
      ]
     },
     "execution_count": 12,
     "metadata": {},
     "output_type": "execute_result"
    }
   ],
   "source": [
    "pipeline.get_params()"
   ]
  },
  {
   "cell_type": "code",
   "execution_count": 7,
   "metadata": {
    "collapsed": false
   },
   "outputs": [],
   "source": [
    "def build_model():\n",
    "    pipeline = Pipeline([\n",
    "        ('vect', CountVectorizer(tokenizer=tokenize)),\n",
    "        ('tfidf', TfidfTransformer()),\n",
    "        ('clf', MultiOutputClassifier(KNeighborsClassifier()))\n",
    "    ])\n",
    "    \n",
    "    parameters = {\n",
    "        'vect__ngram_range': ((1, 1), (1, 2)),\n",
    "        #'vect__max_df': (0.5, 0.75, 1.0),\n",
    "        #'vect__max_features': (None, 5000, 10000),\n",
    "        #'tfidf__use_idf': (True, False)\n",
    "        #'clf__estimator__n_neighbors': [i for i in range(4,6)],\n",
    "        #'clf__estimator__p': [i for i in range(1,5)]\n",
    "    }\n",
    "    \n",
    "    cv = GridSearchCV(pipeline, param_grid = parameters, scoring='f1_weighted', n_jobs=-1)\n",
    "    \n",
    "    return cv\n",
    "\n"
   ]
  },
  {
   "cell_type": "code",
   "execution_count": 8,
   "metadata": {
    "collapsed": true
   },
   "outputs": [],
   "source": [
    "X_train, X_test, y_train, y_test = train_test_split(X, y)"
   ]
  },
  {
   "cell_type": "code",
   "execution_count": 9,
   "metadata": {
    "collapsed": false
   },
   "outputs": [
    {
     "ename": "JoblibValueError",
     "evalue": "JoblibValueError\n___________________________________________________________________________\nMultiprocessing exception:\n...........................................................................\n/Users/vickieliu/anaconda/lib/python3.5/runpy.py in _run_module_as_main(mod_name='ipykernel.__main__', alter_argv=1)\n    179         sys.exit(msg)\n    180     main_globals = sys.modules[\"__main__\"].__dict__\n    181     if alter_argv:\n    182         sys.argv[0] = mod_spec.origin\n    183     return _run_code(code, main_globals, None,\n--> 184                      \"__main__\", mod_spec)\n        mod_spec = ModuleSpec(name='ipykernel.__main__', loader=<_f...b/python3.5/site-packages/ipykernel/__main__.py')\n    185 \n    186 def run_module(mod_name, init_globals=None,\n    187                run_name=None, alter_sys=False):\n    188     \"\"\"Execute a module's code without importing it\n\n...........................................................................\n/Users/vickieliu/anaconda/lib/python3.5/runpy.py in _run_code(code=<code object <module> at 0x103b780c0, file \"/Use...3.5/site-packages/ipykernel/__main__.py\", line 1>, run_globals={'__builtins__': <module 'builtins' (built-in)>, '__cached__': '/Users/vickieliu/anaconda/lib/python3.5/site-packages/ipykernel/__pycache__/__main__.cpython-35.pyc', '__doc__': None, '__file__': '/Users/vickieliu/anaconda/lib/python3.5/site-packages/ipykernel/__main__.py', '__loader__': <_frozen_importlib_external.SourceFileLoader object>, '__name__': '__main__', '__package__': 'ipykernel', '__spec__': ModuleSpec(name='ipykernel.__main__', loader=<_f...b/python3.5/site-packages/ipykernel/__main__.py'), 'app': <module 'ipykernel.kernelapp' from '/Users/vicki.../python3.5/site-packages/ipykernel/kernelapp.py'>}, init_globals=None, mod_name='__main__', mod_spec=ModuleSpec(name='ipykernel.__main__', loader=<_f...b/python3.5/site-packages/ipykernel/__main__.py'), pkg_name='ipykernel', script_name=None)\n     80                        __cached__ = cached,\n     81                        __doc__ = None,\n     82                        __loader__ = loader,\n     83                        __package__ = pkg_name,\n     84                        __spec__ = mod_spec)\n---> 85     exec(code, run_globals)\n        code = <code object <module> at 0x103b780c0, file \"/Use...3.5/site-packages/ipykernel/__main__.py\", line 1>\n        run_globals = {'__builtins__': <module 'builtins' (built-in)>, '__cached__': '/Users/vickieliu/anaconda/lib/python3.5/site-packages/ipykernel/__pycache__/__main__.cpython-35.pyc', '__doc__': None, '__file__': '/Users/vickieliu/anaconda/lib/python3.5/site-packages/ipykernel/__main__.py', '__loader__': <_frozen_importlib_external.SourceFileLoader object>, '__name__': '__main__', '__package__': 'ipykernel', '__spec__': ModuleSpec(name='ipykernel.__main__', loader=<_f...b/python3.5/site-packages/ipykernel/__main__.py'), 'app': <module 'ipykernel.kernelapp' from '/Users/vicki.../python3.5/site-packages/ipykernel/kernelapp.py'>}\n     86     return run_globals\n     87 \n     88 def _run_module_code(code, init_globals=None,\n     89                     mod_name=None, mod_spec=None,\n\n...........................................................................\n/Users/vickieliu/anaconda/lib/python3.5/site-packages/ipykernel/__main__.py in <module>()\n      1 if __name__ == '__main__':\n      2     from ipykernel import kernelapp as app\n----> 3     app.launch_new_instance()\n\n...........................................................................\n/Users/vickieliu/anaconda/lib/python3.5/site-packages/traitlets/config/application.py in launch_instance(cls=<class 'ipykernel.kernelapp.IPKernelApp'>, argv=None, **kwargs={})\n    648 \n    649         If a global instance already exists, this reinitializes and starts it\n    650         \"\"\"\n    651         app = cls.instance(**kwargs)\n    652         app.initialize(argv)\n--> 653         app.start()\n        app.start = <bound method IPKernelApp.start of <ipykernel.kernelapp.IPKernelApp object>>\n    654 \n    655 #-----------------------------------------------------------------------------\n    656 # utility functions, for convenience\n    657 #-----------------------------------------------------------------------------\n\n...........................................................................\n/Users/vickieliu/anaconda/lib/python3.5/site-packages/ipykernel/kernelapp.py in start(self=<ipykernel.kernelapp.IPKernelApp object>)\n    469             return self.subapp.start()\n    470         if self.poller is not None:\n    471             self.poller.start()\n    472         self.kernel.start()\n    473         try:\n--> 474             ioloop.IOLoop.instance().start()\n    475         except KeyboardInterrupt:\n    476             pass\n    477 \n    478 launch_new_instance = IPKernelApp.launch_instance\n\n...........................................................................\n/Users/vickieliu/anaconda/lib/python3.5/site-packages/zmq/eventloop/ioloop.py in start(self=<zmq.eventloop.ioloop.ZMQIOLoop object>)\n    157             PollIOLoop.configure(ZMQIOLoop)\n    158         return PollIOLoop.current(*args, **kwargs)\n    159     \n    160     def start(self):\n    161         try:\n--> 162             super(ZMQIOLoop, self).start()\n        self.start = <bound method ZMQIOLoop.start of <zmq.eventloop.ioloop.ZMQIOLoop object>>\n    163         except ZMQError as e:\n    164             if e.errno == ETERM:\n    165                 # quietly return on ETERM\n    166                 pass\n\n...........................................................................\n/Users/vickieliu/anaconda/lib/python3.5/site-packages/tornado/ioloop.py in start(self=<zmq.eventloop.ioloop.ZMQIOLoop object>)\n    882                 self._events.update(event_pairs)\n    883                 while self._events:\n    884                     fd, events = self._events.popitem()\n    885                     try:\n    886                         fd_obj, handler_func = self._handlers[fd]\n--> 887                         handler_func(fd_obj, events)\n        handler_func = <function wrap.<locals>.null_wrapper>\n        fd_obj = <zmq.sugar.socket.Socket object>\n        events = 1\n    888                     except (OSError, IOError) as e:\n    889                         if errno_from_exception(e) == errno.EPIPE:\n    890                             # Happens when the client closes the connection\n    891                             pass\n\n...........................................................................\n/Users/vickieliu/anaconda/lib/python3.5/site-packages/tornado/stack_context.py in null_wrapper(*args=(<zmq.sugar.socket.Socket object>, 1), **kwargs={})\n    270         # Fast path when there are no active contexts.\n    271         def null_wrapper(*args, **kwargs):\n    272             try:\n    273                 current_state = _state.contexts\n    274                 _state.contexts = cap_contexts[0]\n--> 275                 return fn(*args, **kwargs)\n        args = (<zmq.sugar.socket.Socket object>, 1)\n        kwargs = {}\n    276             finally:\n    277                 _state.contexts = current_state\n    278         null_wrapper._wrapped = True\n    279         return null_wrapper\n\n...........................................................................\n/Users/vickieliu/anaconda/lib/python3.5/site-packages/zmq/eventloop/zmqstream.py in _handle_events(self=<zmq.eventloop.zmqstream.ZMQStream object>, fd=<zmq.sugar.socket.Socket object>, events=1)\n    435             # dispatch events:\n    436             if events & IOLoop.ERROR:\n    437                 gen_log.error(\"got POLLERR event on ZMQStream, which doesn't make sense\")\n    438                 return\n    439             if events & IOLoop.READ:\n--> 440                 self._handle_recv()\n        self._handle_recv = <bound method ZMQStream._handle_recv of <zmq.eventloop.zmqstream.ZMQStream object>>\n    441                 if not self.socket:\n    442                     return\n    443             if events & IOLoop.WRITE:\n    444                 self._handle_send()\n\n...........................................................................\n/Users/vickieliu/anaconda/lib/python3.5/site-packages/zmq/eventloop/zmqstream.py in _handle_recv(self=<zmq.eventloop.zmqstream.ZMQStream object>)\n    467                 gen_log.error(\"RECV Error: %s\"%zmq.strerror(e.errno))\n    468         else:\n    469             if self._recv_callback:\n    470                 callback = self._recv_callback\n    471                 # self._recv_callback = None\n--> 472                 self._run_callback(callback, msg)\n        self._run_callback = <bound method ZMQStream._run_callback of <zmq.eventloop.zmqstream.ZMQStream object>>\n        callback = <function wrap.<locals>.null_wrapper>\n        msg = [<zmq.sugar.frame.Frame object>, <zmq.sugar.frame.Frame object>, <zmq.sugar.frame.Frame object>, <zmq.sugar.frame.Frame object>, <zmq.sugar.frame.Frame object>, <zmq.sugar.frame.Frame object>, <zmq.sugar.frame.Frame object>]\n    473                 \n    474         # self.update_state()\n    475         \n    476 \n\n...........................................................................\n/Users/vickieliu/anaconda/lib/python3.5/site-packages/zmq/eventloop/zmqstream.py in _run_callback(self=<zmq.eventloop.zmqstream.ZMQStream object>, callback=<function wrap.<locals>.null_wrapper>, *args=([<zmq.sugar.frame.Frame object>, <zmq.sugar.frame.Frame object>, <zmq.sugar.frame.Frame object>, <zmq.sugar.frame.Frame object>, <zmq.sugar.frame.Frame object>, <zmq.sugar.frame.Frame object>, <zmq.sugar.frame.Frame object>],), **kwargs={})\n    409         close our socket.\"\"\"\n    410         try:\n    411             # Use a NullContext to ensure that all StackContexts are run\n    412             # inside our blanket exception handler rather than outside.\n    413             with stack_context.NullContext():\n--> 414                 callback(*args, **kwargs)\n        callback = <function wrap.<locals>.null_wrapper>\n        args = ([<zmq.sugar.frame.Frame object>, <zmq.sugar.frame.Frame object>, <zmq.sugar.frame.Frame object>, <zmq.sugar.frame.Frame object>, <zmq.sugar.frame.Frame object>, <zmq.sugar.frame.Frame object>, <zmq.sugar.frame.Frame object>],)\n        kwargs = {}\n    415         except:\n    416             gen_log.error(\"Uncaught exception, closing connection.\",\n    417                           exc_info=True)\n    418             # Close the socket on an uncaught exception from a user callback\n\n...........................................................................\n/Users/vickieliu/anaconda/lib/python3.5/site-packages/tornado/stack_context.py in null_wrapper(*args=([<zmq.sugar.frame.Frame object>, <zmq.sugar.frame.Frame object>, <zmq.sugar.frame.Frame object>, <zmq.sugar.frame.Frame object>, <zmq.sugar.frame.Frame object>, <zmq.sugar.frame.Frame object>, <zmq.sugar.frame.Frame object>],), **kwargs={})\n    270         # Fast path when there are no active contexts.\n    271         def null_wrapper(*args, **kwargs):\n    272             try:\n    273                 current_state = _state.contexts\n    274                 _state.contexts = cap_contexts[0]\n--> 275                 return fn(*args, **kwargs)\n        args = ([<zmq.sugar.frame.Frame object>, <zmq.sugar.frame.Frame object>, <zmq.sugar.frame.Frame object>, <zmq.sugar.frame.Frame object>, <zmq.sugar.frame.Frame object>, <zmq.sugar.frame.Frame object>, <zmq.sugar.frame.Frame object>],)\n        kwargs = {}\n    276             finally:\n    277                 _state.contexts = current_state\n    278         null_wrapper._wrapped = True\n    279         return null_wrapper\n\n...........................................................................\n/Users/vickieliu/anaconda/lib/python3.5/site-packages/ipykernel/kernelbase.py in dispatcher(msg=[<zmq.sugar.frame.Frame object>, <zmq.sugar.frame.Frame object>, <zmq.sugar.frame.Frame object>, <zmq.sugar.frame.Frame object>, <zmq.sugar.frame.Frame object>, <zmq.sugar.frame.Frame object>, <zmq.sugar.frame.Frame object>])\n    271         if self.control_stream:\n    272             self.control_stream.on_recv(self.dispatch_control, copy=False)\n    273 \n    274         def make_dispatcher(stream):\n    275             def dispatcher(msg):\n--> 276                 return self.dispatch_shell(stream, msg)\n        msg = [<zmq.sugar.frame.Frame object>, <zmq.sugar.frame.Frame object>, <zmq.sugar.frame.Frame object>, <zmq.sugar.frame.Frame object>, <zmq.sugar.frame.Frame object>, <zmq.sugar.frame.Frame object>, <zmq.sugar.frame.Frame object>]\n    277             return dispatcher\n    278 \n    279         for s in self.shell_streams:\n    280             s.on_recv(make_dispatcher(s), copy=False)\n\n...........................................................................\n/Users/vickieliu/anaconda/lib/python3.5/site-packages/ipykernel/kernelbase.py in dispatch_shell(self=<ipykernel.ipkernel.IPythonKernel object>, stream=<zmq.eventloop.zmqstream.ZMQStream object>, msg={'buffers': [], 'content': {'allow_stdin': True, 'code': '%%time\\n\\nmodel = build_model()\\nmodel.fit(X_train, y_train)', 'silent': False, 'stop_on_error': True, 'store_history': True, 'user_expressions': {}}, 'header': {'date': '2019-12-15T23:29:08.543633', 'msg_id': '3AB31A0C56C347628CB5D4A6DBE9E97E', 'msg_type': 'execute_request', 'session': '8DE3ADEDCD244D4CA5BE5D4421A2F445', 'username': 'username', 'version': '5.0'}, 'metadata': {}, 'msg_id': '3AB31A0C56C347628CB5D4A6DBE9E97E', 'msg_type': 'execute_request', 'parent_header': {}})\n    223             self.log.error(\"UNKNOWN MESSAGE TYPE: %r\", msg_type)\n    224         else:\n    225             self.log.debug(\"%s: %s\", msg_type, msg)\n    226             self.pre_handler_hook()\n    227             try:\n--> 228                 handler(stream, idents, msg)\n        handler = <bound method Kernel.execute_request of <ipykernel.ipkernel.IPythonKernel object>>\n        stream = <zmq.eventloop.zmqstream.ZMQStream object>\n        idents = [b'8DE3ADEDCD244D4CA5BE5D4421A2F445']\n        msg = {'buffers': [], 'content': {'allow_stdin': True, 'code': '%%time\\n\\nmodel = build_model()\\nmodel.fit(X_train, y_train)', 'silent': False, 'stop_on_error': True, 'store_history': True, 'user_expressions': {}}, 'header': {'date': '2019-12-15T23:29:08.543633', 'msg_id': '3AB31A0C56C347628CB5D4A6DBE9E97E', 'msg_type': 'execute_request', 'session': '8DE3ADEDCD244D4CA5BE5D4421A2F445', 'username': 'username', 'version': '5.0'}, 'metadata': {}, 'msg_id': '3AB31A0C56C347628CB5D4A6DBE9E97E', 'msg_type': 'execute_request', 'parent_header': {}}\n    229             except Exception:\n    230                 self.log.error(\"Exception in message handler:\", exc_info=True)\n    231             finally:\n    232                 self.post_handler_hook()\n\n...........................................................................\n/Users/vickieliu/anaconda/lib/python3.5/site-packages/ipykernel/kernelbase.py in execute_request(self=<ipykernel.ipkernel.IPythonKernel object>, stream=<zmq.eventloop.zmqstream.ZMQStream object>, ident=[b'8DE3ADEDCD244D4CA5BE5D4421A2F445'], parent={'buffers': [], 'content': {'allow_stdin': True, 'code': '%%time\\n\\nmodel = build_model()\\nmodel.fit(X_train, y_train)', 'silent': False, 'stop_on_error': True, 'store_history': True, 'user_expressions': {}}, 'header': {'date': '2019-12-15T23:29:08.543633', 'msg_id': '3AB31A0C56C347628CB5D4A6DBE9E97E', 'msg_type': 'execute_request', 'session': '8DE3ADEDCD244D4CA5BE5D4421A2F445', 'username': 'username', 'version': '5.0'}, 'metadata': {}, 'msg_id': '3AB31A0C56C347628CB5D4A6DBE9E97E', 'msg_type': 'execute_request', 'parent_header': {}})\n    385         if not silent:\n    386             self.execution_count += 1\n    387             self._publish_execute_input(code, parent, self.execution_count)\n    388 \n    389         reply_content = self.do_execute(code, silent, store_history,\n--> 390                                         user_expressions, allow_stdin)\n        user_expressions = {}\n        allow_stdin = True\n    391 \n    392         # Flush output before sending the reply.\n    393         sys.stdout.flush()\n    394         sys.stderr.flush()\n\n...........................................................................\n/Users/vickieliu/anaconda/lib/python3.5/site-packages/ipykernel/ipkernel.py in do_execute(self=<ipykernel.ipkernel.IPythonKernel object>, code='%%time\\n\\nmodel = build_model()\\nmodel.fit(X_train, y_train)', silent=False, store_history=True, user_expressions={}, allow_stdin=True)\n    191 \n    192         self._forward_input(allow_stdin)\n    193 \n    194         reply_content = {}\n    195         try:\n--> 196             res = shell.run_cell(code, store_history=store_history, silent=silent)\n        res = undefined\n        shell.run_cell = <bound method ZMQInteractiveShell.run_cell of <ipykernel.zmqshell.ZMQInteractiveShell object>>\n        code = '%%time\\n\\nmodel = build_model()\\nmodel.fit(X_train, y_train)'\n        store_history = True\n        silent = False\n    197         finally:\n    198             self._restore_input()\n    199 \n    200         if res.error_before_exec is not None:\n\n...........................................................................\n/Users/vickieliu/anaconda/lib/python3.5/site-packages/ipykernel/zmqshell.py in run_cell(self=<ipykernel.zmqshell.ZMQInteractiveShell object>, *args=('%%time\\n\\nmodel = build_model()\\nmodel.fit(X_train, y_train)',), **kwargs={'silent': False, 'store_history': True})\n    496             )\n    497         self.payload_manager.write_payload(payload)\n    498 \n    499     def run_cell(self, *args, **kwargs):\n    500         self._last_traceback = None\n--> 501         return super(ZMQInteractiveShell, self).run_cell(*args, **kwargs)\n        self.run_cell = <bound method ZMQInteractiveShell.run_cell of <ipykernel.zmqshell.ZMQInteractiveShell object>>\n        args = ('%%time\\n\\nmodel = build_model()\\nmodel.fit(X_train, y_train)',)\n        kwargs = {'silent': False, 'store_history': True}\n    502 \n    503     def _showtraceback(self, etype, evalue, stb):\n    504         # try to preserve ordering of tracebacks and print statements\n    505         sys.stdout.flush()\n\n...........................................................................\n/Users/vickieliu/anaconda/lib/python3.5/site-packages/IPython/core/interactiveshell.py in run_cell(self=<ipykernel.zmqshell.ZMQInteractiveShell object>, raw_cell='%%time\\n\\nmodel = build_model()\\nmodel.fit(X_train, y_train)', store_history=True, silent=False, shell_futures=True)\n   2712                 self.displayhook.exec_result = result\n   2713 \n   2714                 # Execute the user code\n   2715                 interactivity = \"none\" if silent else self.ast_node_interactivity\n   2716                 has_raised = self.run_ast_nodes(code_ast.body, cell_name,\n-> 2717                    interactivity=interactivity, compiler=compiler, result=result)\n        interactivity = 'last_expr'\n        compiler = <IPython.core.compilerop.CachingCompiler object>\n   2718                 \n   2719                 self.last_execution_succeeded = not has_raised\n   2720 \n   2721                 # Reset this so later displayed values do not modify the\n\n...........................................................................\n/Users/vickieliu/anaconda/lib/python3.5/site-packages/IPython/core/interactiveshell.py in run_ast_nodes(self=<ipykernel.zmqshell.ZMQInteractiveShell object>, nodelist=[<_ast.Expr object>], cell_name='<ipython-input-9-fcaada12a090>', interactivity='last', compiler=<IPython.core.compilerop.CachingCompiler object>, result=<ExecutionResult object at 1238d90b8, execution_..._before_exec=None error_in_exec=None result=None>)\n   2822                     return True\n   2823 \n   2824             for i, node in enumerate(to_run_interactive):\n   2825                 mod = ast.Interactive([node])\n   2826                 code = compiler(mod, cell_name, \"single\")\n-> 2827                 if self.run_code(code, result):\n        self.run_code = <bound method InteractiveShell.run_code of <ipykernel.zmqshell.ZMQInteractiveShell object>>\n        code = <code object <module> at 0x1251a4ed0, file \"<ipython-input-9-fcaada12a090>\", line 1>\n        result = <ExecutionResult object at 1238d90b8, execution_..._before_exec=None error_in_exec=None result=None>\n   2828                     return True\n   2829 \n   2830             # Flush softspace\n   2831             if softspace(sys.stdout, 0):\n\n...........................................................................\n/Users/vickieliu/anaconda/lib/python3.5/site-packages/IPython/core/interactiveshell.py in run_code(self=<ipykernel.zmqshell.ZMQInteractiveShell object>, code_obj=<code object <module> at 0x1251a4ed0, file \"<ipython-input-9-fcaada12a090>\", line 1>, result=<ExecutionResult object at 1238d90b8, execution_..._before_exec=None error_in_exec=None result=None>)\n   2876         outflag = 1  # happens in more places, so it's easier as default\n   2877         try:\n   2878             try:\n   2879                 self.hooks.pre_run_code_hook()\n   2880                 #rprint('Running code', repr(code_obj)) # dbg\n-> 2881                 exec(code_obj, self.user_global_ns, self.user_ns)\n        code_obj = <code object <module> at 0x1251a4ed0, file \"<ipython-input-9-fcaada12a090>\", line 1>\n        self.user_global_ns = {'CountVectorizer': <class 'sklearn.feature_extraction.text.CountVectorizer'>, 'FeatureUnion': <class 'sklearn.pipeline.FeatureUnion'>, 'GridSearchCV': <class 'sklearn.model_selection._search.GridSearchCV'>, 'In': ['', '# import libraries\\nimport pandas as pd\\nfrom sqla...rom sklearn.externals import joblib\\nimport pickle', \"categories = ['related', 'request', 'offer', 'ai...quake', 'cold', 'other_weather', 'direct_report']\", '# load data from database\\nengine = create_engine...]\\nX = df.message.values\\ny = df[categories].values', 'X.shape', 'def tokenize(text):\\n    # Normalize text\\n    tex...pend(clean_tok)\\n    \\n    return clean_tokens\\n    ', \"def build_model():\\n    pipeline = Pipeline([\\n   ...ighted', n_jobs=-1, verbose=1)\\n    \\n    return cv\", \"def build_model():\\n    pipeline = Pipeline([\\n   ...ring='f1_weighted', n_jobs=-1)\\n    \\n    return cv\", 'X_train, X_test, y_train, y_test = train_test_split(X, y)', r\"get_ipython().run_cell_magic('time', '', '\\nmodel = build_model()\\nmodel.fit(X_train, y_train)')\"], 'KNeighborsClassifier': <class 'sklearn.neighbors.classification.KNeighborsClassifier'>, 'MultiOutputClassifier': <class 'sklearn.multioutput.MultiOutputClassifier'>, 'Out': {4: (26180,)}, 'Pipeline': <class 'sklearn.pipeline.Pipeline'>, 'PorterStemmer': <class 'nltk.stem.porter.PorterStemmer'>, 'TfidfTransformer': <class 'sklearn.feature_extraction.text.TfidfTransformer'>, ...}\n        self.user_ns = {'CountVectorizer': <class 'sklearn.feature_extraction.text.CountVectorizer'>, 'FeatureUnion': <class 'sklearn.pipeline.FeatureUnion'>, 'GridSearchCV': <class 'sklearn.model_selection._search.GridSearchCV'>, 'In': ['', '# import libraries\\nimport pandas as pd\\nfrom sqla...rom sklearn.externals import joblib\\nimport pickle', \"categories = ['related', 'request', 'offer', 'ai...quake', 'cold', 'other_weather', 'direct_report']\", '# load data from database\\nengine = create_engine...]\\nX = df.message.values\\ny = df[categories].values', 'X.shape', 'def tokenize(text):\\n    # Normalize text\\n    tex...pend(clean_tok)\\n    \\n    return clean_tokens\\n    ', \"def build_model():\\n    pipeline = Pipeline([\\n   ...ighted', n_jobs=-1, verbose=1)\\n    \\n    return cv\", \"def build_model():\\n    pipeline = Pipeline([\\n   ...ring='f1_weighted', n_jobs=-1)\\n    \\n    return cv\", 'X_train, X_test, y_train, y_test = train_test_split(X, y)', r\"get_ipython().run_cell_magic('time', '', '\\nmodel = build_model()\\nmodel.fit(X_train, y_train)')\"], 'KNeighborsClassifier': <class 'sklearn.neighbors.classification.KNeighborsClassifier'>, 'MultiOutputClassifier': <class 'sklearn.multioutput.MultiOutputClassifier'>, 'Out': {4: (26180,)}, 'Pipeline': <class 'sklearn.pipeline.Pipeline'>, 'PorterStemmer': <class 'nltk.stem.porter.PorterStemmer'>, 'TfidfTransformer': <class 'sklearn.feature_extraction.text.TfidfTransformer'>, ...}\n   2882             finally:\n   2883                 # Reset our crash handler in place\n   2884                 sys.excepthook = old_excepthook\n   2885         except SystemExit as e:\n\n...........................................................................\n/Users/vickieliu/Documents/Git/DataScientist_Udacity/DSND_Disaster_Response_Pipelines/<ipython-input-9-fcaada12a090> in <module>()\n----> 1 get_ipython().run_cell_magic('time', '', '\\nmodel = build_model()\\nmodel.fit(X_train, y_train)')\n\n...........................................................................\n/Users/vickieliu/anaconda/lib/python3.5/site-packages/IPython/core/interactiveshell.py in run_cell_magic(self=<ipykernel.zmqshell.ZMQInteractiveShell object>, magic_name='time', line='', cell='\\nmodel = build_model()\\nmodel.fit(X_train, y_train)')\n   2110             # This will need to be updated if the internal calling logic gets\n   2111             # refactored, or else we'll be expanding the wrong variables.\n   2112             stack_depth = 2\n   2113             magic_arg_s = self.var_expand(line, stack_depth)\n   2114             with self.builtin_trap:\n-> 2115                 result = fn(magic_arg_s, cell)\n        result = undefined\n        fn = <bound method ExecutionMagics.time of <IPython.core.magics.execution.ExecutionMagics object>>\n        magic_arg_s = ''\n        cell = '\\nmodel = build_model()\\nmodel.fit(X_train, y_train)'\n   2116             return result\n   2117 \n   2118     def find_line_magic(self, magic_name):\n   2119         \"\"\"Find and return a line magic by name.\n\n...........................................................................\n/Users/vickieliu/Documents/Git/DataScientist_Udacity/DSND_Disaster_Response_Pipelines/<decorator-gen-59> in time(self=<IPython.core.magics.execution.ExecutionMagics object>, line='', cell='\\nmodel = build_model()\\nmodel.fit(X_train, y_train)', local_ns=None)\n\n...........................................................................\n/Users/vickieliu/anaconda/lib/python3.5/site-packages/IPython/core/magic.py in <lambda>(f=<function ExecutionMagics.time>, *a=(<IPython.core.magics.execution.ExecutionMagics object>, '', '\\nmodel = build_model()\\nmodel.fit(X_train, y_train)', None), **k={})\n    183     validate_type(magic_kind)\n    184 \n    185     # This is a closure to capture the magic_kind.  We could also use a class,\n    186     # but it's overkill for just that one bit of state.\n    187     def magic_deco(arg):\n--> 188         call = lambda f, *a, **k: f(*a, **k)\n        f = <function ExecutionMagics.time>\n        a = (<IPython.core.magics.execution.ExecutionMagics object>, '', '\\nmodel = build_model()\\nmodel.fit(X_train, y_train)', None)\n        k = {}\n    189 \n    190         if callable(arg):\n    191             # \"Naked\" decorator call (just @foo, no args)\n    192             func = arg\n\n...........................................................................\n/Users/vickieliu/anaconda/lib/python3.5/site-packages/IPython/core/magics/execution.py in time(self=<IPython.core.magics.execution.ExecutionMagics object>, line='', cell='\\nmodel = build_model()\\nmodel.fit(X_train, y_train)', local_ns=None)\n   1175             st = clock2()\n   1176             out = eval(code, glob, local_ns)\n   1177             end = clock2()\n   1178         else:\n   1179             st = clock2()\n-> 1180             exec(code, glob, local_ns)\n        code = <code object <module> at 0x1238de030, file \"<timed exec>\", line 2>\n        glob = {'CountVectorizer': <class 'sklearn.feature_extraction.text.CountVectorizer'>, 'FeatureUnion': <class 'sklearn.pipeline.FeatureUnion'>, 'GridSearchCV': <class 'sklearn.model_selection._search.GridSearchCV'>, 'In': ['', '# import libraries\\nimport pandas as pd\\nfrom sqla...rom sklearn.externals import joblib\\nimport pickle', \"categories = ['related', 'request', 'offer', 'ai...quake', 'cold', 'other_weather', 'direct_report']\", '# load data from database\\nengine = create_engine...]\\nX = df.message.values\\ny = df[categories].values', 'X.shape', 'def tokenize(text):\\n    # Normalize text\\n    tex...pend(clean_tok)\\n    \\n    return clean_tokens\\n    ', \"def build_model():\\n    pipeline = Pipeline([\\n   ...ighted', n_jobs=-1, verbose=1)\\n    \\n    return cv\", \"def build_model():\\n    pipeline = Pipeline([\\n   ...ring='f1_weighted', n_jobs=-1)\\n    \\n    return cv\", 'X_train, X_test, y_train, y_test = train_test_split(X, y)', r\"get_ipython().run_cell_magic('time', '', '\\nmodel = build_model()\\nmodel.fit(X_train, y_train)')\"], 'KNeighborsClassifier': <class 'sklearn.neighbors.classification.KNeighborsClassifier'>, 'MultiOutputClassifier': <class 'sklearn.multioutput.MultiOutputClassifier'>, 'Out': {4: (26180,)}, 'Pipeline': <class 'sklearn.pipeline.Pipeline'>, 'PorterStemmer': <class 'nltk.stem.porter.PorterStemmer'>, 'TfidfTransformer': <class 'sklearn.feature_extraction.text.TfidfTransformer'>, ...}\n        local_ns = None\n   1181             end = clock2()\n   1182             out = None\n   1183         wall_end = wtime()\n   1184         # Compute actual times and report\n\n...........................................................................\n/Users/vickieliu/Documents/Git/DataScientist_Udacity/DSND_Disaster_Response_Pipelines/<timed exec> in <module>()\n\n...........................................................................\n/Users/vickieliu/anaconda/lib/python3.5/site-packages/sklearn/model_selection/_search.py in fit(self=GridSearchCV(cv=None, error_score='raise',\n     ...re=True,\n       scoring='f1_weighted', verbose=0), X=array(['Another quick trip to Santiago..',\n     ...da , santa cruz (: ja colei , rs'], dtype=object), y=array([[0, 0, 0, ..., 0, 0, 0],\n       [0, 0, 0,..., ..., 0, 0, 0],\n       [2, 0, 0, ..., 0, 0, 0]]), groups=None, **fit_params={})\n    633                                   return_train_score=self.return_train_score,\n    634                                   return_n_test_samples=True,\n    635                                   return_times=True, return_parameters=False,\n    636                                   error_score=self.error_score)\n    637           for parameters, (train, test) in product(candidate_params,\n--> 638                                                    cv.split(X, y, groups)))\n        cv.split = <bound method _BaseKFold.split of KFold(n_splits=3, random_state=None, shuffle=False)>\n        X = array(['Another quick trip to Santiago..',\n     ...da , santa cruz (: ja colei , rs'], dtype=object)\n        y = array([[0, 0, 0, ..., 0, 0, 0],\n       [0, 0, 0,..., ..., 0, 0, 0],\n       [2, 0, 0, ..., 0, 0, 0]])\n        groups = None\n    639 \n    640         # if one choose to see train score, \"out\" will contain train score info\n    641         if self.return_train_score:\n    642             (train_score_dicts, test_score_dicts, test_sample_counts, fit_time,\n\n...........................................................................\n/Users/vickieliu/anaconda/lib/python3.5/site-packages/sklearn/externals/joblib/parallel.py in __call__(self=Parallel(n_jobs=-1), iterable=<generator object BaseSearchCV.fit.<locals>.<genexpr>>)\n    784             if pre_dispatch == \"all\" or n_jobs == 1:\n    785                 # The iterable was consumed all at once by the above for loop.\n    786                 # No need to wait for async callbacks to trigger to\n    787                 # consumption.\n    788                 self._iterating = False\n--> 789             self.retrieve()\n        self.retrieve = <bound method Parallel.retrieve of Parallel(n_jobs=-1)>\n    790             # Make sure that we get a last message telling us we are done\n    791             elapsed_time = time.time() - self._start_time\n    792             self._print('Done %3i out of %3i | elapsed: %s finished',\n    793                         (len(self._output), len(self._output),\n\n---------------------------------------------------------------------------\nSub-process traceback:\n---------------------------------------------------------------------------\nValueError                                         Sun Dec 15 23:32:48 2019\nPID: 59244               Python 3.5.2: /Users/vickieliu/anaconda/bin/python\n...........................................................................\n/Users/vickieliu/anaconda/lib/python3.5/site-packages/sklearn/externals/joblib/parallel.py in __call__(self=<sklearn.externals.joblib.parallel.BatchedCalls object>)\n    126     def __init__(self, iterator_slice):\n    127         self.items = list(iterator_slice)\n    128         self._size = len(self.items)\n    129 \n    130     def __call__(self):\n--> 131         return [func(*args, **kwargs) for func, args, kwargs in self.items]\n        self.items = [(<function _fit_and_score>, (Pipeline(memory=None,\n     steps=[('vect', Count...      weights='uniform'),\n           n_jobs=1))]), array(['Another quick trip to Santiago..',\n     ...da , santa cruz (: ja colei , rs'], dtype=object), memmap([[0, 0, 0, ..., 0, 0, 0],\n        [0, 0, ... ..., 0, 0, 0],\n        [2, 0, 0, ..., 0, 0, 0]]), {'score': make_scorer(f1_score, pos_label=None, average=weighted)}, array([ 6545,  6546,  6547, ..., 19632, 19633, 19634]), array([   0,    1,    2, ..., 6542, 6543, 6544]), 0, {'vect__ngram_range': (1, 1)}), {'error_score': 'raise', 'fit_params': {}, 'return_n_test_samples': True, 'return_parameters': False, 'return_times': True, 'return_train_score': True})]\n    132 \n    133     def __len__(self):\n    134         return self._size\n    135 \n\n...........................................................................\n/Users/vickieliu/anaconda/lib/python3.5/site-packages/sklearn/externals/joblib/parallel.py in <listcomp>(.0=<list_iterator object>)\n    126     def __init__(self, iterator_slice):\n    127         self.items = list(iterator_slice)\n    128         self._size = len(self.items)\n    129 \n    130     def __call__(self):\n--> 131         return [func(*args, **kwargs) for func, args, kwargs in self.items]\n        func = <function _fit_and_score>\n        args = (Pipeline(memory=None,\n     steps=[('vect', Count...      weights='uniform'),\n           n_jobs=1))]), array(['Another quick trip to Santiago..',\n     ...da , santa cruz (: ja colei , rs'], dtype=object), memmap([[0, 0, 0, ..., 0, 0, 0],\n        [0, 0, ... ..., 0, 0, 0],\n        [2, 0, 0, ..., 0, 0, 0]]), {'score': make_scorer(f1_score, pos_label=None, average=weighted)}, array([ 6545,  6546,  6547, ..., 19632, 19633, 19634]), array([   0,    1,    2, ..., 6542, 6543, 6544]), 0, {'vect__ngram_range': (1, 1)})\n        kwargs = {'error_score': 'raise', 'fit_params': {}, 'return_n_test_samples': True, 'return_parameters': False, 'return_times': True, 'return_train_score': True}\n    132 \n    133     def __len__(self):\n    134         return self._size\n    135 \n\n...........................................................................\n/Users/vickieliu/anaconda/lib/python3.5/site-packages/sklearn/model_selection/_validation.py in _fit_and_score(estimator=Pipeline(memory=None,\n     steps=[('vect', Count...      weights='uniform'),\n           n_jobs=1))]), X=array(['Another quick trip to Santiago..',\n     ...da , santa cruz (: ja colei , rs'], dtype=object), y=memmap([[0, 0, 0, ..., 0, 0, 0],\n        [0, 0, ... ..., 0, 0, 0],\n        [2, 0, 0, ..., 0, 0, 0]]), scorer={'score': make_scorer(f1_score, pos_label=None, average=weighted)}, train=array([ 6545,  6546,  6547, ..., 19632, 19633, 19634]), test=array([   0,    1,    2, ..., 6542, 6543, 6544]), verbose=0, parameters={'vect__ngram_range': (1, 1)}, fit_params={}, return_train_score=True, return_parameters=False, return_n_test_samples=True, return_times=True, error_score='raise')\n    462                              \" make sure that it has been spelled correctly.)\")\n    463 \n    464     else:\n    465         fit_time = time.time() - start_time\n    466         # _score will return dict if is_multimetric is True\n--> 467         test_scores = _score(estimator, X_test, y_test, scorer, is_multimetric)\n        test_scores = {}\n        estimator = Pipeline(memory=None,\n     steps=[('vect', Count...      weights='uniform'),\n           n_jobs=1))])\n        X_test = array(['Another quick trip to Santiago..',\n     ... Saddening news about earthquake'], dtype=object)\n        y_test = memmap([[0, 0, 0, ..., 0, 0, 0],\n        [0, 0, ... ..., 0, 0, 0],\n        [1, 0, 0, ..., 0, 0, 0]])\n        scorer = {'score': make_scorer(f1_score, pos_label=None, average=weighted)}\n        is_multimetric = True\n    468         score_time = time.time() - start_time - fit_time\n    469         if return_train_score:\n    470             train_scores = _score(estimator, X_train, y_train, scorer,\n    471                                   is_multimetric)\n\n...........................................................................\n/Users/vickieliu/anaconda/lib/python3.5/site-packages/sklearn/model_selection/_validation.py in _score(estimator=Pipeline(memory=None,\n     steps=[('vect', Count...      weights='uniform'),\n           n_jobs=1))]), X_test=array(['Another quick trip to Santiago..',\n     ... Saddening news about earthquake'], dtype=object), y_test=memmap([[0, 0, 0, ..., 0, 0, 0],\n        [0, 0, ... ..., 0, 0, 0],\n        [1, 0, 0, ..., 0, 0, 0]]), scorer={'score': make_scorer(f1_score, pos_label=None, average=weighted)}, is_multimetric=True)\n    497 \n    498     Will return a single float if is_multimetric is False and a dict of floats,\n    499     if is_multimetric is True\n    500     \"\"\"\n    501     if is_multimetric:\n--> 502         return _multimetric_score(estimator, X_test, y_test, scorer)\n        estimator = Pipeline(memory=None,\n     steps=[('vect', Count...      weights='uniform'),\n           n_jobs=1))])\n        X_test = array(['Another quick trip to Santiago..',\n     ... Saddening news about earthquake'], dtype=object)\n        y_test = memmap([[0, 0, 0, ..., 0, 0, 0],\n        [0, 0, ... ..., 0, 0, 0],\n        [1, 0, 0, ..., 0, 0, 0]])\n        scorer = {'score': make_scorer(f1_score, pos_label=None, average=weighted)}\n    503     else:\n    504         if y_test is None:\n    505             score = scorer(estimator, X_test)\n    506         else:\n\n...........................................................................\n/Users/vickieliu/anaconda/lib/python3.5/site-packages/sklearn/model_selection/_validation.py in _multimetric_score(estimator=Pipeline(memory=None,\n     steps=[('vect', Count...      weights='uniform'),\n           n_jobs=1))]), X_test=array(['Another quick trip to Santiago..',\n     ... Saddening news about earthquake'], dtype=object), y_test=memmap([[0, 0, 0, ..., 0, 0, 0],\n        [0, 0, ... ..., 0, 0, 0],\n        [1, 0, 0, ..., 0, 0, 0]]), scorers={'score': make_scorer(f1_score, pos_label=None, average=weighted)})\n    527 \n    528     for name, scorer in scorers.items():\n    529         if y_test is None:\n    530             score = scorer(estimator, X_test)\n    531         else:\n--> 532             score = scorer(estimator, X_test, y_test)\n        score = undefined\n        scorer = make_scorer(f1_score, pos_label=None, average=weighted)\n        estimator = Pipeline(memory=None,\n     steps=[('vect', Count...      weights='uniform'),\n           n_jobs=1))])\n        X_test = array(['Another quick trip to Santiago..',\n     ... Saddening news about earthquake'], dtype=object)\n        y_test = memmap([[0, 0, 0, ..., 0, 0, 0],\n        [0, 0, ... ..., 0, 0, 0],\n        [1, 0, 0, ..., 0, 0, 0]])\n    533 \n    534         if hasattr(score, 'item'):\n    535             try:\n    536                 # e.g. unwrap memmapped scalars\n\n...........................................................................\n/Users/vickieliu/anaconda/lib/python3.5/site-packages/sklearn/metrics/scorer.py in __call__(self=make_scorer(f1_score, pos_label=None, average=weighted), estimator=Pipeline(memory=None,\n     steps=[('vect', Count...      weights='uniform'),\n           n_jobs=1))]), X=array(['Another quick trip to Santiago..',\n     ... Saddening news about earthquake'], dtype=object), y_true=memmap([[0, 0, 0, ..., 0, 0, 0],\n        [0, 0, ... ..., 0, 0, 0],\n        [1, 0, 0, ..., 0, 0, 0]]), sample_weight=None)\n    103             return self._sign * self._score_func(y_true, y_pred,\n    104                                                  sample_weight=sample_weight,\n    105                                                  **self._kwargs)\n    106         else:\n    107             return self._sign * self._score_func(y_true, y_pred,\n--> 108                                                  **self._kwargs)\n        self._kwargs = {'average': 'weighted', 'pos_label': None}\n    109 \n    110 \n    111 class _ProbaScorer(_BaseScorer):\n    112     def __call__(self, clf, X, y, sample_weight=None):\n\n...........................................................................\n/Users/vickieliu/anaconda/lib/python3.5/site-packages/sklearn/metrics/classification.py in f1_score(y_true=memmap([[0, 0, 0, ..., 0, 0, 0],\n        [0, 0, ... ..., 0, 0, 0],\n        [1, 0, 0, ..., 0, 0, 0]]), y_pred=array([[0, 0, 0, ..., 0, 0, 0],\n       [0, 0, 0,..., ..., 0, 0, 0],\n       [1, 0, 0, ..., 0, 0, 0]]), labels=None, pos_label=None, average='weighted', sample_weight=None)\n    709 \n    710 \n    711     \"\"\"\n    712     return fbeta_score(y_true, y_pred, 1, labels=labels,\n    713                        pos_label=pos_label, average=average,\n--> 714                        sample_weight=sample_weight)\n        sample_weight = None\n    715 \n    716 \n    717 def fbeta_score(y_true, y_pred, beta, labels=None, pos_label=1,\n    718                 average='binary', sample_weight=None):\n\n...........................................................................\n/Users/vickieliu/anaconda/lib/python3.5/site-packages/sklearn/metrics/classification.py in fbeta_score(y_true=memmap([[0, 0, 0, ..., 0, 0, 0],\n        [0, 0, ... ..., 0, 0, 0],\n        [1, 0, 0, ..., 0, 0, 0]]), y_pred=array([[0, 0, 0, ..., 0, 0, 0],\n       [0, 0, 0,..., ..., 0, 0, 0],\n       [1, 0, 0, ..., 0, 0, 0]]), beta=1, labels=None, pos_label=None, average='weighted', sample_weight=None)\n    823                                                  beta=beta,\n    824                                                  labels=labels,\n    825                                                  pos_label=pos_label,\n    826                                                  average=average,\n    827                                                  warn_for=('f-score',),\n--> 828                                                  sample_weight=sample_weight)\n        sample_weight = None\n    829     return f\n    830 \n    831 \n    832 def _prf_divide(numerator, denominator, metric, modifier, average, warn_for):\n\n...........................................................................\n/Users/vickieliu/anaconda/lib/python3.5/site-packages/sklearn/metrics/classification.py in precision_recall_fscore_support(y_true=memmap([[0, 0, 0, ..., 0, 0, 0],\n        [0, 0, ... ..., 0, 0, 0],\n        [1, 0, 0, ..., 0, 0, 0]]), y_pred=array([[0, 0, 0, ..., 0, 0, 0],\n       [0, 0, 0,..., ..., 0, 0, 0],\n       [1, 0, 0, ..., 0, 0, 0]]), beta=1, labels=None, pos_label=None, average='weighted', warn_for=('f-score',), sample_weight=None)\n   1020         raise ValueError('average has to be one of ' +\n   1021                          str(average_options))\n   1022     if beta <= 0:\n   1023         raise ValueError(\"beta should be >0 in the F-beta score\")\n   1024 \n-> 1025     y_type, y_true, y_pred = _check_targets(y_true, y_pred)\n        y_type = undefined\n        y_true = memmap([[0, 0, 0, ..., 0, 0, 0],\n        [0, 0, ... ..., 0, 0, 0],\n        [1, 0, 0, ..., 0, 0, 0]])\n        y_pred = array([[0, 0, 0, ..., 0, 0, 0],\n       [0, 0, 0,..., ..., 0, 0, 0],\n       [1, 0, 0, ..., 0, 0, 0]])\n   1026     present_labels = unique_labels(y_true, y_pred)\n   1027 \n   1028     if average == 'binary':\n   1029         if y_type == 'binary':\n\n...........................................................................\n/Users/vickieliu/anaconda/lib/python3.5/site-packages/sklearn/metrics/classification.py in _check_targets(y_true=memmap([[0, 0, 0, ..., 0, 0, 0],\n        [0, 0, ... ..., 0, 0, 0],\n        [1, 0, 0, ..., 0, 0, 0]]), y_pred=array([[0, 0, 0, ..., 0, 0, 0],\n       [0, 0, 0,..., ..., 0, 0, 0],\n       [1, 0, 0, ..., 0, 0, 0]]))\n     83     # We can't have more than one value on y_type => The set is no more needed\n     84     y_type = y_type.pop()\n     85 \n     86     # No metrics support \"multiclass-multioutput\" format\n     87     if (y_type not in [\"binary\", \"multiclass\", \"multilabel-indicator\"]):\n---> 88         raise ValueError(\"{0} is not supported\".format(y_type))\n        y_type = 'multiclass-multioutput'\n     89 \n     90     if y_type in [\"binary\", \"multiclass\"]:\n     91         y_true = column_or_1d(y_true)\n     92         y_pred = column_or_1d(y_pred)\n\nValueError: multiclass-multioutput is not supported\n___________________________________________________________________________",
     "output_type": "error",
     "traceback": [
      "\u001b[0;31m---------------------------------------------------------------------------\u001b[0m",
      "\u001b[0;31mRemoteTraceback\u001b[0m                           Traceback (most recent call last)",
      "\u001b[0;31mRemoteTraceback\u001b[0m: \n\"\"\"\nTraceback (most recent call last):\n  File \"/Users/vickieliu/anaconda/lib/python3.5/site-packages/sklearn/externals/joblib/_parallel_backends.py\", line 350, in __call__\n    return self.func(*args, **kwargs)\n  File \"/Users/vickieliu/anaconda/lib/python3.5/site-packages/sklearn/externals/joblib/parallel.py\", line 131, in __call__\n    return [func(*args, **kwargs) for func, args, kwargs in self.items]\n  File \"/Users/vickieliu/anaconda/lib/python3.5/site-packages/sklearn/externals/joblib/parallel.py\", line 131, in <listcomp>\n    return [func(*args, **kwargs) for func, args, kwargs in self.items]\n  File \"/Users/vickieliu/anaconda/lib/python3.5/site-packages/sklearn/model_selection/_validation.py\", line 467, in _fit_and_score\n    test_scores = _score(estimator, X_test, y_test, scorer, is_multimetric)\n  File \"/Users/vickieliu/anaconda/lib/python3.5/site-packages/sklearn/model_selection/_validation.py\", line 502, in _score\n    return _multimetric_score(estimator, X_test, y_test, scorer)\n  File \"/Users/vickieliu/anaconda/lib/python3.5/site-packages/sklearn/model_selection/_validation.py\", line 532, in _multimetric_score\n    score = scorer(estimator, X_test, y_test)\n  File \"/Users/vickieliu/anaconda/lib/python3.5/site-packages/sklearn/metrics/scorer.py\", line 108, in __call__\n    **self._kwargs)\n  File \"/Users/vickieliu/anaconda/lib/python3.5/site-packages/sklearn/metrics/classification.py\", line 714, in f1_score\n    sample_weight=sample_weight)\n  File \"/Users/vickieliu/anaconda/lib/python3.5/site-packages/sklearn/metrics/classification.py\", line 828, in fbeta_score\n    sample_weight=sample_weight)\n  File \"/Users/vickieliu/anaconda/lib/python3.5/site-packages/sklearn/metrics/classification.py\", line 1025, in precision_recall_fscore_support\n    y_type, y_true, y_pred = _check_targets(y_true, y_pred)\n  File \"/Users/vickieliu/anaconda/lib/python3.5/site-packages/sklearn/metrics/classification.py\", line 88, in _check_targets\n    raise ValueError(\"{0} is not supported\".format(y_type))\nValueError: multiclass-multioutput is not supported\n\nDuring handling of the above exception, another exception occurred:\n\nTraceback (most recent call last):\n  File \"/Users/vickieliu/anaconda/lib/python3.5/multiprocessing/pool.py\", line 119, in worker\n    result = (True, func(*args, **kwds))\n  File \"/Users/vickieliu/anaconda/lib/python3.5/site-packages/sklearn/externals/joblib/_parallel_backends.py\", line 359, in __call__\n    raise TransportableException(text, e_type)\nsklearn.externals.joblib.my_exceptions.TransportableException: TransportableException\n___________________________________________________________________________\nValueError                                         Sun Dec 15 23:32:48 2019\nPID: 59244               Python 3.5.2: /Users/vickieliu/anaconda/bin/python\n...........................................................................\n/Users/vickieliu/anaconda/lib/python3.5/site-packages/sklearn/externals/joblib/parallel.py in __call__(self=<sklearn.externals.joblib.parallel.BatchedCalls object>)\n    126     def __init__(self, iterator_slice):\n    127         self.items = list(iterator_slice)\n    128         self._size = len(self.items)\n    129 \n    130     def __call__(self):\n--> 131         return [func(*args, **kwargs) for func, args, kwargs in self.items]\n        self.items = [(<function _fit_and_score>, (Pipeline(memory=None,\n     steps=[('vect', Count...      weights='uniform'),\n           n_jobs=1))]), array(['Another quick trip to Santiago..',\n     ...da , santa cruz (: ja colei , rs'], dtype=object), memmap([[0, 0, 0, ..., 0, 0, 0],\n        [0, 0, ... ..., 0, 0, 0],\n        [2, 0, 0, ..., 0, 0, 0]]), {'score': make_scorer(f1_score, pos_label=None, average=weighted)}, array([ 6545,  6546,  6547, ..., 19632, 19633, 19634]), array([   0,    1,    2, ..., 6542, 6543, 6544]), 0, {'vect__ngram_range': (1, 1)}), {'error_score': 'raise', 'fit_params': {}, 'return_n_test_samples': True, 'return_parameters': False, 'return_times': True, 'return_train_score': True})]\n    132 \n    133     def __len__(self):\n    134         return self._size\n    135 \n\n...........................................................................\n/Users/vickieliu/anaconda/lib/python3.5/site-packages/sklearn/externals/joblib/parallel.py in <listcomp>(.0=<list_iterator object>)\n    126     def __init__(self, iterator_slice):\n    127         self.items = list(iterator_slice)\n    128         self._size = len(self.items)\n    129 \n    130     def __call__(self):\n--> 131         return [func(*args, **kwargs) for func, args, kwargs in self.items]\n        func = <function _fit_and_score>\n        args = (Pipeline(memory=None,\n     steps=[('vect', Count...      weights='uniform'),\n           n_jobs=1))]), array(['Another quick trip to Santiago..',\n     ...da , santa cruz (: ja colei , rs'], dtype=object), memmap([[0, 0, 0, ..., 0, 0, 0],\n        [0, 0, ... ..., 0, 0, 0],\n        [2, 0, 0, ..., 0, 0, 0]]), {'score': make_scorer(f1_score, pos_label=None, average=weighted)}, array([ 6545,  6546,  6547, ..., 19632, 19633, 19634]), array([   0,    1,    2, ..., 6542, 6543, 6544]), 0, {'vect__ngram_range': (1, 1)})\n        kwargs = {'error_score': 'raise', 'fit_params': {}, 'return_n_test_samples': True, 'return_parameters': False, 'return_times': True, 'return_train_score': True}\n    132 \n    133     def __len__(self):\n    134         return self._size\n    135 \n\n...........................................................................\n/Users/vickieliu/anaconda/lib/python3.5/site-packages/sklearn/model_selection/_validation.py in _fit_and_score(estimator=Pipeline(memory=None,\n     steps=[('vect', Count...      weights='uniform'),\n           n_jobs=1))]), X=array(['Another quick trip to Santiago..',\n     ...da , santa cruz (: ja colei , rs'], dtype=object), y=memmap([[0, 0, 0, ..., 0, 0, 0],\n        [0, 0, ... ..., 0, 0, 0],\n        [2, 0, 0, ..., 0, 0, 0]]), scorer={'score': make_scorer(f1_score, pos_label=None, average=weighted)}, train=array([ 6545,  6546,  6547, ..., 19632, 19633, 19634]), test=array([   0,    1,    2, ..., 6542, 6543, 6544]), verbose=0, parameters={'vect__ngram_range': (1, 1)}, fit_params={}, return_train_score=True, return_parameters=False, return_n_test_samples=True, return_times=True, error_score='raise')\n    462                              \" make sure that it has been spelled correctly.)\")\n    463 \n    464     else:\n    465         fit_time = time.time() - start_time\n    466         # _score will return dict if is_multimetric is True\n--> 467         test_scores = _score(estimator, X_test, y_test, scorer, is_multimetric)\n        test_scores = {}\n        estimator = Pipeline(memory=None,\n     steps=[('vect', Count...      weights='uniform'),\n           n_jobs=1))])\n        X_test = array(['Another quick trip to Santiago..',\n     ... Saddening news about earthquake'], dtype=object)\n        y_test = memmap([[0, 0, 0, ..., 0, 0, 0],\n        [0, 0, ... ..., 0, 0, 0],\n        [1, 0, 0, ..., 0, 0, 0]])\n        scorer = {'score': make_scorer(f1_score, pos_label=None, average=weighted)}\n        is_multimetric = True\n    468         score_time = time.time() - start_time - fit_time\n    469         if return_train_score:\n    470             train_scores = _score(estimator, X_train, y_train, scorer,\n    471                                   is_multimetric)\n\n...........................................................................\n/Users/vickieliu/anaconda/lib/python3.5/site-packages/sklearn/model_selection/_validation.py in _score(estimator=Pipeline(memory=None,\n     steps=[('vect', Count...      weights='uniform'),\n           n_jobs=1))]), X_test=array(['Another quick trip to Santiago..',\n     ... Saddening news about earthquake'], dtype=object), y_test=memmap([[0, 0, 0, ..., 0, 0, 0],\n        [0, 0, ... ..., 0, 0, 0],\n        [1, 0, 0, ..., 0, 0, 0]]), scorer={'score': make_scorer(f1_score, pos_label=None, average=weighted)}, is_multimetric=True)\n    497 \n    498     Will return a single float if is_multimetric is False and a dict of floats,\n    499     if is_multimetric is True\n    500     \"\"\"\n    501     if is_multimetric:\n--> 502         return _multimetric_score(estimator, X_test, y_test, scorer)\n        estimator = Pipeline(memory=None,\n     steps=[('vect', Count...      weights='uniform'),\n           n_jobs=1))])\n        X_test = array(['Another quick trip to Santiago..',\n     ... Saddening news about earthquake'], dtype=object)\n        y_test = memmap([[0, 0, 0, ..., 0, 0, 0],\n        [0, 0, ... ..., 0, 0, 0],\n        [1, 0, 0, ..., 0, 0, 0]])\n        scorer = {'score': make_scorer(f1_score, pos_label=None, average=weighted)}\n    503     else:\n    504         if y_test is None:\n    505             score = scorer(estimator, X_test)\n    506         else:\n\n...........................................................................\n/Users/vickieliu/anaconda/lib/python3.5/site-packages/sklearn/model_selection/_validation.py in _multimetric_score(estimator=Pipeline(memory=None,\n     steps=[('vect', Count...      weights='uniform'),\n           n_jobs=1))]), X_test=array(['Another quick trip to Santiago..',\n     ... Saddening news about earthquake'], dtype=object), y_test=memmap([[0, 0, 0, ..., 0, 0, 0],\n        [0, 0, ... ..., 0, 0, 0],\n        [1, 0, 0, ..., 0, 0, 0]]), scorers={'score': make_scorer(f1_score, pos_label=None, average=weighted)})\n    527 \n    528     for name, scorer in scorers.items():\n    529         if y_test is None:\n    530             score = scorer(estimator, X_test)\n    531         else:\n--> 532             score = scorer(estimator, X_test, y_test)\n        score = undefined\n        scorer = make_scorer(f1_score, pos_label=None, average=weighted)\n        estimator = Pipeline(memory=None,\n     steps=[('vect', Count...      weights='uniform'),\n           n_jobs=1))])\n        X_test = array(['Another quick trip to Santiago..',\n     ... Saddening news about earthquake'], dtype=object)\n        y_test = memmap([[0, 0, 0, ..., 0, 0, 0],\n        [0, 0, ... ..., 0, 0, 0],\n        [1, 0, 0, ..., 0, 0, 0]])\n    533 \n    534         if hasattr(score, 'item'):\n    535             try:\n    536                 # e.g. unwrap memmapped scalars\n\n...........................................................................\n/Users/vickieliu/anaconda/lib/python3.5/site-packages/sklearn/metrics/scorer.py in __call__(self=make_scorer(f1_score, pos_label=None, average=weighted), estimator=Pipeline(memory=None,\n     steps=[('vect', Count...      weights='uniform'),\n           n_jobs=1))]), X=array(['Another quick trip to Santiago..',\n     ... Saddening news about earthquake'], dtype=object), y_true=memmap([[0, 0, 0, ..., 0, 0, 0],\n        [0, 0, ... ..., 0, 0, 0],\n        [1, 0, 0, ..., 0, 0, 0]]), sample_weight=None)\n    103             return self._sign * self._score_func(y_true, y_pred,\n    104                                                  sample_weight=sample_weight,\n    105                                                  **self._kwargs)\n    106         else:\n    107             return self._sign * self._score_func(y_true, y_pred,\n--> 108                                                  **self._kwargs)\n        self._kwargs = {'average': 'weighted', 'pos_label': None}\n    109 \n    110 \n    111 class _ProbaScorer(_BaseScorer):\n    112     def __call__(self, clf, X, y, sample_weight=None):\n\n...........................................................................\n/Users/vickieliu/anaconda/lib/python3.5/site-packages/sklearn/metrics/classification.py in f1_score(y_true=memmap([[0, 0, 0, ..., 0, 0, 0],\n        [0, 0, ... ..., 0, 0, 0],\n        [1, 0, 0, ..., 0, 0, 0]]), y_pred=array([[0, 0, 0, ..., 0, 0, 0],\n       [0, 0, 0,..., ..., 0, 0, 0],\n       [1, 0, 0, ..., 0, 0, 0]]), labels=None, pos_label=None, average='weighted', sample_weight=None)\n    709 \n    710 \n    711     \"\"\"\n    712     return fbeta_score(y_true, y_pred, 1, labels=labels,\n    713                        pos_label=pos_label, average=average,\n--> 714                        sample_weight=sample_weight)\n        sample_weight = None\n    715 \n    716 \n    717 def fbeta_score(y_true, y_pred, beta, labels=None, pos_label=1,\n    718                 average='binary', sample_weight=None):\n\n...........................................................................\n/Users/vickieliu/anaconda/lib/python3.5/site-packages/sklearn/metrics/classification.py in fbeta_score(y_true=memmap([[0, 0, 0, ..., 0, 0, 0],\n        [0, 0, ... ..., 0, 0, 0],\n        [1, 0, 0, ..., 0, 0, 0]]), y_pred=array([[0, 0, 0, ..., 0, 0, 0],\n       [0, 0, 0,..., ..., 0, 0, 0],\n       [1, 0, 0, ..., 0, 0, 0]]), beta=1, labels=None, pos_label=None, average='weighted', sample_weight=None)\n    823                                                  beta=beta,\n    824                                                  labels=labels,\n    825                                                  pos_label=pos_label,\n    826                                                  average=average,\n    827                                                  warn_for=('f-score',),\n--> 828                                                  sample_weight=sample_weight)\n        sample_weight = None\n    829     return f\n    830 \n    831 \n    832 def _prf_divide(numerator, denominator, metric, modifier, average, warn_for):\n\n...........................................................................\n/Users/vickieliu/anaconda/lib/python3.5/site-packages/sklearn/metrics/classification.py in precision_recall_fscore_support(y_true=memmap([[0, 0, 0, ..., 0, 0, 0],\n        [0, 0, ... ..., 0, 0, 0],\n        [1, 0, 0, ..., 0, 0, 0]]), y_pred=array([[0, 0, 0, ..., 0, 0, 0],\n       [0, 0, 0,..., ..., 0, 0, 0],\n       [1, 0, 0, ..., 0, 0, 0]]), beta=1, labels=None, pos_label=None, average='weighted', warn_for=('f-score',), sample_weight=None)\n   1020         raise ValueError('average has to be one of ' +\n   1021                          str(average_options))\n   1022     if beta <= 0:\n   1023         raise ValueError(\"beta should be >0 in the F-beta score\")\n   1024 \n-> 1025     y_type, y_true, y_pred = _check_targets(y_true, y_pred)\n        y_type = undefined\n        y_true = memmap([[0, 0, 0, ..., 0, 0, 0],\n        [0, 0, ... ..., 0, 0, 0],\n        [1, 0, 0, ..., 0, 0, 0]])\n        y_pred = array([[0, 0, 0, ..., 0, 0, 0],\n       [0, 0, 0,..., ..., 0, 0, 0],\n       [1, 0, 0, ..., 0, 0, 0]])\n   1026     present_labels = unique_labels(y_true, y_pred)\n   1027 \n   1028     if average == 'binary':\n   1029         if y_type == 'binary':\n\n...........................................................................\n/Users/vickieliu/anaconda/lib/python3.5/site-packages/sklearn/metrics/classification.py in _check_targets(y_true=memmap([[0, 0, 0, ..., 0, 0, 0],\n        [0, 0, ... ..., 0, 0, 0],\n        [1, 0, 0, ..., 0, 0, 0]]), y_pred=array([[0, 0, 0, ..., 0, 0, 0],\n       [0, 0, 0,..., ..., 0, 0, 0],\n       [1, 0, 0, ..., 0, 0, 0]]))\n     83     # We can't have more than one value on y_type => The set is no more needed\n     84     y_type = y_type.pop()\n     85 \n     86     # No metrics support \"multiclass-multioutput\" format\n     87     if (y_type not in [\"binary\", \"multiclass\", \"multilabel-indicator\"]):\n---> 88         raise ValueError(\"{0} is not supported\".format(y_type))\n        y_type = 'multiclass-multioutput'\n     89 \n     90     if y_type in [\"binary\", \"multiclass\"]:\n     91         y_true = column_or_1d(y_true)\n     92         y_pred = column_or_1d(y_pred)\n\nValueError: multiclass-multioutput is not supported\n___________________________________________________________________________\n\"\"\"",
      "\nThe above exception was the direct cause of the following exception:\n",
      "\u001b[0;31mTransportableException\u001b[0m                    Traceback (most recent call last)",
      "\u001b[0;32m/Users/vickieliu/anaconda/lib/python3.5/site-packages/sklearn/externals/joblib/parallel.py\u001b[0m in \u001b[0;36mretrieve\u001b[0;34m(self)\u001b[0m\n\u001b[1;32m    698\u001b[0m                 \u001b[0;32mif\u001b[0m \u001b[0mgetattr\u001b[0m\u001b[0;34m(\u001b[0m\u001b[0mself\u001b[0m\u001b[0;34m.\u001b[0m\u001b[0m_backend\u001b[0m\u001b[0;34m,\u001b[0m \u001b[0;34m'supports_timeout'\u001b[0m\u001b[0;34m,\u001b[0m \u001b[0;32mFalse\u001b[0m\u001b[0;34m)\u001b[0m\u001b[0;34m:\u001b[0m\u001b[0;34m\u001b[0m\u001b[0m\n\u001b[0;32m--> 699\u001b[0;31m                     \u001b[0mself\u001b[0m\u001b[0;34m.\u001b[0m\u001b[0m_output\u001b[0m\u001b[0;34m.\u001b[0m\u001b[0mextend\u001b[0m\u001b[0;34m(\u001b[0m\u001b[0mjob\u001b[0m\u001b[0;34m.\u001b[0m\u001b[0mget\u001b[0m\u001b[0;34m(\u001b[0m\u001b[0mtimeout\u001b[0m\u001b[0;34m=\u001b[0m\u001b[0mself\u001b[0m\u001b[0;34m.\u001b[0m\u001b[0mtimeout\u001b[0m\u001b[0;34m)\u001b[0m\u001b[0;34m)\u001b[0m\u001b[0;34m\u001b[0m\u001b[0m\n\u001b[0m\u001b[1;32m    700\u001b[0m                 \u001b[0;32melse\u001b[0m\u001b[0;34m:\u001b[0m\u001b[0;34m\u001b[0m\u001b[0m\n",
      "\u001b[0;32m/Users/vickieliu/anaconda/lib/python3.5/multiprocessing/pool.py\u001b[0m in \u001b[0;36mget\u001b[0;34m(self, timeout)\u001b[0m\n\u001b[1;32m    607\u001b[0m         \u001b[0;32melse\u001b[0m\u001b[0;34m:\u001b[0m\u001b[0;34m\u001b[0m\u001b[0m\n\u001b[0;32m--> 608\u001b[0;31m             \u001b[0;32mraise\u001b[0m \u001b[0mself\u001b[0m\u001b[0;34m.\u001b[0m\u001b[0m_value\u001b[0m\u001b[0;34m\u001b[0m\u001b[0m\n\u001b[0m\u001b[1;32m    609\u001b[0m \u001b[0;34m\u001b[0m\u001b[0m\n",
      "\u001b[0;31mTransportableException\u001b[0m: TransportableException\n___________________________________________________________________________\nValueError                                         Sun Dec 15 23:32:48 2019\nPID: 59244               Python 3.5.2: /Users/vickieliu/anaconda/bin/python\n...........................................................................\n/Users/vickieliu/anaconda/lib/python3.5/site-packages/sklearn/externals/joblib/parallel.py in __call__(self=<sklearn.externals.joblib.parallel.BatchedCalls object>)\n    126     def __init__(self, iterator_slice):\n    127         self.items = list(iterator_slice)\n    128         self._size = len(self.items)\n    129 \n    130     def __call__(self):\n--> 131         return [func(*args, **kwargs) for func, args, kwargs in self.items]\n        self.items = [(<function _fit_and_score>, (Pipeline(memory=None,\n     steps=[('vect', Count...      weights='uniform'),\n           n_jobs=1))]), array(['Another quick trip to Santiago..',\n     ...da , santa cruz (: ja colei , rs'], dtype=object), memmap([[0, 0, 0, ..., 0, 0, 0],\n        [0, 0, ... ..., 0, 0, 0],\n        [2, 0, 0, ..., 0, 0, 0]]), {'score': make_scorer(f1_score, pos_label=None, average=weighted)}, array([ 6545,  6546,  6547, ..., 19632, 19633, 19634]), array([   0,    1,    2, ..., 6542, 6543, 6544]), 0, {'vect__ngram_range': (1, 1)}), {'error_score': 'raise', 'fit_params': {}, 'return_n_test_samples': True, 'return_parameters': False, 'return_times': True, 'return_train_score': True})]\n    132 \n    133     def __len__(self):\n    134         return self._size\n    135 \n\n...........................................................................\n/Users/vickieliu/anaconda/lib/python3.5/site-packages/sklearn/externals/joblib/parallel.py in <listcomp>(.0=<list_iterator object>)\n    126     def __init__(self, iterator_slice):\n    127         self.items = list(iterator_slice)\n    128         self._size = len(self.items)\n    129 \n    130     def __call__(self):\n--> 131         return [func(*args, **kwargs) for func, args, kwargs in self.items]\n        func = <function _fit_and_score>\n        args = (Pipeline(memory=None,\n     steps=[('vect', Count...      weights='uniform'),\n           n_jobs=1))]), array(['Another quick trip to Santiago..',\n     ...da , santa cruz (: ja colei , rs'], dtype=object), memmap([[0, 0, 0, ..., 0, 0, 0],\n        [0, 0, ... ..., 0, 0, 0],\n        [2, 0, 0, ..., 0, 0, 0]]), {'score': make_scorer(f1_score, pos_label=None, average=weighted)}, array([ 6545,  6546,  6547, ..., 19632, 19633, 19634]), array([   0,    1,    2, ..., 6542, 6543, 6544]), 0, {'vect__ngram_range': (1, 1)})\n        kwargs = {'error_score': 'raise', 'fit_params': {}, 'return_n_test_samples': True, 'return_parameters': False, 'return_times': True, 'return_train_score': True}\n    132 \n    133     def __len__(self):\n    134         return self._size\n    135 \n\n...........................................................................\n/Users/vickieliu/anaconda/lib/python3.5/site-packages/sklearn/model_selection/_validation.py in _fit_and_score(estimator=Pipeline(memory=None,\n     steps=[('vect', Count...      weights='uniform'),\n           n_jobs=1))]), X=array(['Another quick trip to Santiago..',\n     ...da , santa cruz (: ja colei , rs'], dtype=object), y=memmap([[0, 0, 0, ..., 0, 0, 0],\n        [0, 0, ... ..., 0, 0, 0],\n        [2, 0, 0, ..., 0, 0, 0]]), scorer={'score': make_scorer(f1_score, pos_label=None, average=weighted)}, train=array([ 6545,  6546,  6547, ..., 19632, 19633, 19634]), test=array([   0,    1,    2, ..., 6542, 6543, 6544]), verbose=0, parameters={'vect__ngram_range': (1, 1)}, fit_params={}, return_train_score=True, return_parameters=False, return_n_test_samples=True, return_times=True, error_score='raise')\n    462                              \" make sure that it has been spelled correctly.)\")\n    463 \n    464     else:\n    465         fit_time = time.time() - start_time\n    466         # _score will return dict if is_multimetric is True\n--> 467         test_scores = _score(estimator, X_test, y_test, scorer, is_multimetric)\n        test_scores = {}\n        estimator = Pipeline(memory=None,\n     steps=[('vect', Count...      weights='uniform'),\n           n_jobs=1))])\n        X_test = array(['Another quick trip to Santiago..',\n     ... Saddening news about earthquake'], dtype=object)\n        y_test = memmap([[0, 0, 0, ..., 0, 0, 0],\n        [0, 0, ... ..., 0, 0, 0],\n        [1, 0, 0, ..., 0, 0, 0]])\n        scorer = {'score': make_scorer(f1_score, pos_label=None, average=weighted)}\n        is_multimetric = True\n    468         score_time = time.time() - start_time - fit_time\n    469         if return_train_score:\n    470             train_scores = _score(estimator, X_train, y_train, scorer,\n    471                                   is_multimetric)\n\n...........................................................................\n/Users/vickieliu/anaconda/lib/python3.5/site-packages/sklearn/model_selection/_validation.py in _score(estimator=Pipeline(memory=None,\n     steps=[('vect', Count...      weights='uniform'),\n           n_jobs=1))]), X_test=array(['Another quick trip to Santiago..',\n     ... Saddening news about earthquake'], dtype=object), y_test=memmap([[0, 0, 0, ..., 0, 0, 0],\n        [0, 0, ... ..., 0, 0, 0],\n        [1, 0, 0, ..., 0, 0, 0]]), scorer={'score': make_scorer(f1_score, pos_label=None, average=weighted)}, is_multimetric=True)\n    497 \n    498     Will return a single float if is_multimetric is False and a dict of floats,\n    499     if is_multimetric is True\n    500     \"\"\"\n    501     if is_multimetric:\n--> 502         return _multimetric_score(estimator, X_test, y_test, scorer)\n        estimator = Pipeline(memory=None,\n     steps=[('vect', Count...      weights='uniform'),\n           n_jobs=1))])\n        X_test = array(['Another quick trip to Santiago..',\n     ... Saddening news about earthquake'], dtype=object)\n        y_test = memmap([[0, 0, 0, ..., 0, 0, 0],\n        [0, 0, ... ..., 0, 0, 0],\n        [1, 0, 0, ..., 0, 0, 0]])\n        scorer = {'score': make_scorer(f1_score, pos_label=None, average=weighted)}\n    503     else:\n    504         if y_test is None:\n    505             score = scorer(estimator, X_test)\n    506         else:\n\n...........................................................................\n/Users/vickieliu/anaconda/lib/python3.5/site-packages/sklearn/model_selection/_validation.py in _multimetric_score(estimator=Pipeline(memory=None,\n     steps=[('vect', Count...      weights='uniform'),\n           n_jobs=1))]), X_test=array(['Another quick trip to Santiago..',\n     ... Saddening news about earthquake'], dtype=object), y_test=memmap([[0, 0, 0, ..., 0, 0, 0],\n        [0, 0, ... ..., 0, 0, 0],\n        [1, 0, 0, ..., 0, 0, 0]]), scorers={'score': make_scorer(f1_score, pos_label=None, average=weighted)})\n    527 \n    528     for name, scorer in scorers.items():\n    529         if y_test is None:\n    530             score = scorer(estimator, X_test)\n    531         else:\n--> 532             score = scorer(estimator, X_test, y_test)\n        score = undefined\n        scorer = make_scorer(f1_score, pos_label=None, average=weighted)\n        estimator = Pipeline(memory=None,\n     steps=[('vect', Count...      weights='uniform'),\n           n_jobs=1))])\n        X_test = array(['Another quick trip to Santiago..',\n     ... Saddening news about earthquake'], dtype=object)\n        y_test = memmap([[0, 0, 0, ..., 0, 0, 0],\n        [0, 0, ... ..., 0, 0, 0],\n        [1, 0, 0, ..., 0, 0, 0]])\n    533 \n    534         if hasattr(score, 'item'):\n    535             try:\n    536                 # e.g. unwrap memmapped scalars\n\n...........................................................................\n/Users/vickieliu/anaconda/lib/python3.5/site-packages/sklearn/metrics/scorer.py in __call__(self=make_scorer(f1_score, pos_label=None, average=weighted), estimator=Pipeline(memory=None,\n     steps=[('vect', Count...      weights='uniform'),\n           n_jobs=1))]), X=array(['Another quick trip to Santiago..',\n     ... Saddening news about earthquake'], dtype=object), y_true=memmap([[0, 0, 0, ..., 0, 0, 0],\n        [0, 0, ... ..., 0, 0, 0],\n        [1, 0, 0, ..., 0, 0, 0]]), sample_weight=None)\n    103             return self._sign * self._score_func(y_true, y_pred,\n    104                                                  sample_weight=sample_weight,\n    105                                                  **self._kwargs)\n    106         else:\n    107             return self._sign * self._score_func(y_true, y_pred,\n--> 108                                                  **self._kwargs)\n        self._kwargs = {'average': 'weighted', 'pos_label': None}\n    109 \n    110 \n    111 class _ProbaScorer(_BaseScorer):\n    112     def __call__(self, clf, X, y, sample_weight=None):\n\n...........................................................................\n/Users/vickieliu/anaconda/lib/python3.5/site-packages/sklearn/metrics/classification.py in f1_score(y_true=memmap([[0, 0, 0, ..., 0, 0, 0],\n        [0, 0, ... ..., 0, 0, 0],\n        [1, 0, 0, ..., 0, 0, 0]]), y_pred=array([[0, 0, 0, ..., 0, 0, 0],\n       [0, 0, 0,..., ..., 0, 0, 0],\n       [1, 0, 0, ..., 0, 0, 0]]), labels=None, pos_label=None, average='weighted', sample_weight=None)\n    709 \n    710 \n    711     \"\"\"\n    712     return fbeta_score(y_true, y_pred, 1, labels=labels,\n    713                        pos_label=pos_label, average=average,\n--> 714                        sample_weight=sample_weight)\n        sample_weight = None\n    715 \n    716 \n    717 def fbeta_score(y_true, y_pred, beta, labels=None, pos_label=1,\n    718                 average='binary', sample_weight=None):\n\n...........................................................................\n/Users/vickieliu/anaconda/lib/python3.5/site-packages/sklearn/metrics/classification.py in fbeta_score(y_true=memmap([[0, 0, 0, ..., 0, 0, 0],\n        [0, 0, ... ..., 0, 0, 0],\n        [1, 0, 0, ..., 0, 0, 0]]), y_pred=array([[0, 0, 0, ..., 0, 0, 0],\n       [0, 0, 0,..., ..., 0, 0, 0],\n       [1, 0, 0, ..., 0, 0, 0]]), beta=1, labels=None, pos_label=None, average='weighted', sample_weight=None)\n    823                                                  beta=beta,\n    824                                                  labels=labels,\n    825                                                  pos_label=pos_label,\n    826                                                  average=average,\n    827                                                  warn_for=('f-score',),\n--> 828                                                  sample_weight=sample_weight)\n        sample_weight = None\n    829     return f\n    830 \n    831 \n    832 def _prf_divide(numerator, denominator, metric, modifier, average, warn_for):\n\n...........................................................................\n/Users/vickieliu/anaconda/lib/python3.5/site-packages/sklearn/metrics/classification.py in precision_recall_fscore_support(y_true=memmap([[0, 0, 0, ..., 0, 0, 0],\n        [0, 0, ... ..., 0, 0, 0],\n        [1, 0, 0, ..., 0, 0, 0]]), y_pred=array([[0, 0, 0, ..., 0, 0, 0],\n       [0, 0, 0,..., ..., 0, 0, 0],\n       [1, 0, 0, ..., 0, 0, 0]]), beta=1, labels=None, pos_label=None, average='weighted', warn_for=('f-score',), sample_weight=None)\n   1020         raise ValueError('average has to be one of ' +\n   1021                          str(average_options))\n   1022     if beta <= 0:\n   1023         raise ValueError(\"beta should be >0 in the F-beta score\")\n   1024 \n-> 1025     y_type, y_true, y_pred = _check_targets(y_true, y_pred)\n        y_type = undefined\n        y_true = memmap([[0, 0, 0, ..., 0, 0, 0],\n        [0, 0, ... ..., 0, 0, 0],\n        [1, 0, 0, ..., 0, 0, 0]])\n        y_pred = array([[0, 0, 0, ..., 0, 0, 0],\n       [0, 0, 0,..., ..., 0, 0, 0],\n       [1, 0, 0, ..., 0, 0, 0]])\n   1026     present_labels = unique_labels(y_true, y_pred)\n   1027 \n   1028     if average == 'binary':\n   1029         if y_type == 'binary':\n\n...........................................................................\n/Users/vickieliu/anaconda/lib/python3.5/site-packages/sklearn/metrics/classification.py in _check_targets(y_true=memmap([[0, 0, 0, ..., 0, 0, 0],\n        [0, 0, ... ..., 0, 0, 0],\n        [1, 0, 0, ..., 0, 0, 0]]), y_pred=array([[0, 0, 0, ..., 0, 0, 0],\n       [0, 0, 0,..., ..., 0, 0, 0],\n       [1, 0, 0, ..., 0, 0, 0]]))\n     83     # We can't have more than one value on y_type => The set is no more needed\n     84     y_type = y_type.pop()\n     85 \n     86     # No metrics support \"multiclass-multioutput\" format\n     87     if (y_type not in [\"binary\", \"multiclass\", \"multilabel-indicator\"]):\n---> 88         raise ValueError(\"{0} is not supported\".format(y_type))\n        y_type = 'multiclass-multioutput'\n     89 \n     90     if y_type in [\"binary\", \"multiclass\"]:\n     91         y_true = column_or_1d(y_true)\n     92         y_pred = column_or_1d(y_pred)\n\nValueError: multiclass-multioutput is not supported\n___________________________________________________________________________",
      "\nDuring handling of the above exception, another exception occurred:\n",
      "\u001b[0;31mJoblibValueError\u001b[0m                          Traceback (most recent call last)",
      "\u001b[0;32m<ipython-input-9-fcaada12a090>\u001b[0m in \u001b[0;36m<module>\u001b[0;34m()\u001b[0m\n\u001b[0;32m----> 1\u001b[0;31m \u001b[0mget_ipython\u001b[0m\u001b[0;34m(\u001b[0m\u001b[0;34m)\u001b[0m\u001b[0;34m.\u001b[0m\u001b[0mrun_cell_magic\u001b[0m\u001b[0;34m(\u001b[0m\u001b[0;34m'time'\u001b[0m\u001b[0;34m,\u001b[0m \u001b[0;34m''\u001b[0m\u001b[0;34m,\u001b[0m \u001b[0;34m'\\nmodel = build_model()\\nmodel.fit(X_train, y_train)'\u001b[0m\u001b[0;34m)\u001b[0m\u001b[0;34m\u001b[0m\u001b[0m\n\u001b[0m",
      "\u001b[0;32m/Users/vickieliu/anaconda/lib/python3.5/site-packages/IPython/core/interactiveshell.py\u001b[0m in \u001b[0;36mrun_cell_magic\u001b[0;34m(self, magic_name, line, cell)\u001b[0m\n\u001b[1;32m   2113\u001b[0m             \u001b[0mmagic_arg_s\u001b[0m \u001b[0;34m=\u001b[0m \u001b[0mself\u001b[0m\u001b[0;34m.\u001b[0m\u001b[0mvar_expand\u001b[0m\u001b[0;34m(\u001b[0m\u001b[0mline\u001b[0m\u001b[0;34m,\u001b[0m \u001b[0mstack_depth\u001b[0m\u001b[0;34m)\u001b[0m\u001b[0;34m\u001b[0m\u001b[0m\n\u001b[1;32m   2114\u001b[0m             \u001b[0;32mwith\u001b[0m \u001b[0mself\u001b[0m\u001b[0;34m.\u001b[0m\u001b[0mbuiltin_trap\u001b[0m\u001b[0;34m:\u001b[0m\u001b[0;34m\u001b[0m\u001b[0m\n\u001b[0;32m-> 2115\u001b[0;31m                 \u001b[0mresult\u001b[0m \u001b[0;34m=\u001b[0m \u001b[0mfn\u001b[0m\u001b[0;34m(\u001b[0m\u001b[0mmagic_arg_s\u001b[0m\u001b[0;34m,\u001b[0m \u001b[0mcell\u001b[0m\u001b[0;34m)\u001b[0m\u001b[0;34m\u001b[0m\u001b[0m\n\u001b[0m\u001b[1;32m   2116\u001b[0m             \u001b[0;32mreturn\u001b[0m \u001b[0mresult\u001b[0m\u001b[0;34m\u001b[0m\u001b[0m\n\u001b[1;32m   2117\u001b[0m \u001b[0;34m\u001b[0m\u001b[0m\n",
      "\u001b[0;32m<decorator-gen-59>\u001b[0m in \u001b[0;36mtime\u001b[0;34m(self, line, cell, local_ns)\u001b[0m\n",
      "\u001b[0;32m/Users/vickieliu/anaconda/lib/python3.5/site-packages/IPython/core/magic.py\u001b[0m in \u001b[0;36m<lambda>\u001b[0;34m(f, *a, **k)\u001b[0m\n\u001b[1;32m    186\u001b[0m     \u001b[0;31m# but it's overkill for just that one bit of state.\u001b[0m\u001b[0;34m\u001b[0m\u001b[0;34m\u001b[0m\u001b[0m\n\u001b[1;32m    187\u001b[0m     \u001b[0;32mdef\u001b[0m \u001b[0mmagic_deco\u001b[0m\u001b[0;34m(\u001b[0m\u001b[0marg\u001b[0m\u001b[0;34m)\u001b[0m\u001b[0;34m:\u001b[0m\u001b[0;34m\u001b[0m\u001b[0m\n\u001b[0;32m--> 188\u001b[0;31m         \u001b[0mcall\u001b[0m \u001b[0;34m=\u001b[0m \u001b[0;32mlambda\u001b[0m \u001b[0mf\u001b[0m\u001b[0;34m,\u001b[0m \u001b[0;34m*\u001b[0m\u001b[0ma\u001b[0m\u001b[0;34m,\u001b[0m \u001b[0;34m**\u001b[0m\u001b[0mk\u001b[0m\u001b[0;34m:\u001b[0m \u001b[0mf\u001b[0m\u001b[0;34m(\u001b[0m\u001b[0;34m*\u001b[0m\u001b[0ma\u001b[0m\u001b[0;34m,\u001b[0m \u001b[0;34m**\u001b[0m\u001b[0mk\u001b[0m\u001b[0;34m)\u001b[0m\u001b[0;34m\u001b[0m\u001b[0m\n\u001b[0m\u001b[1;32m    189\u001b[0m \u001b[0;34m\u001b[0m\u001b[0m\n\u001b[1;32m    190\u001b[0m         \u001b[0;32mif\u001b[0m \u001b[0mcallable\u001b[0m\u001b[0;34m(\u001b[0m\u001b[0marg\u001b[0m\u001b[0;34m)\u001b[0m\u001b[0;34m:\u001b[0m\u001b[0;34m\u001b[0m\u001b[0m\n",
      "\u001b[0;32m/Users/vickieliu/anaconda/lib/python3.5/site-packages/IPython/core/magics/execution.py\u001b[0m in \u001b[0;36mtime\u001b[0;34m(self, line, cell, local_ns)\u001b[0m\n\u001b[1;32m   1178\u001b[0m         \u001b[0;32melse\u001b[0m\u001b[0;34m:\u001b[0m\u001b[0;34m\u001b[0m\u001b[0m\n\u001b[1;32m   1179\u001b[0m             \u001b[0mst\u001b[0m \u001b[0;34m=\u001b[0m \u001b[0mclock2\u001b[0m\u001b[0;34m(\u001b[0m\u001b[0;34m)\u001b[0m\u001b[0;34m\u001b[0m\u001b[0m\n\u001b[0;32m-> 1180\u001b[0;31m             \u001b[0mexec\u001b[0m\u001b[0;34m(\u001b[0m\u001b[0mcode\u001b[0m\u001b[0;34m,\u001b[0m \u001b[0mglob\u001b[0m\u001b[0;34m,\u001b[0m \u001b[0mlocal_ns\u001b[0m\u001b[0;34m)\u001b[0m\u001b[0;34m\u001b[0m\u001b[0m\n\u001b[0m\u001b[1;32m   1181\u001b[0m             \u001b[0mend\u001b[0m \u001b[0;34m=\u001b[0m \u001b[0mclock2\u001b[0m\u001b[0;34m(\u001b[0m\u001b[0;34m)\u001b[0m\u001b[0;34m\u001b[0m\u001b[0m\n\u001b[1;32m   1182\u001b[0m             \u001b[0mout\u001b[0m \u001b[0;34m=\u001b[0m \u001b[0;32mNone\u001b[0m\u001b[0;34m\u001b[0m\u001b[0m\n",
      "\u001b[0;32m<timed exec>\u001b[0m in \u001b[0;36m<module>\u001b[0;34m()\u001b[0m\n",
      "\u001b[0;32m/Users/vickieliu/anaconda/lib/python3.5/site-packages/sklearn/model_selection/_search.py\u001b[0m in \u001b[0;36mfit\u001b[0;34m(self, X, y, groups, **fit_params)\u001b[0m\n\u001b[1;32m    636\u001b[0m                                   error_score=self.error_score)\n\u001b[1;32m    637\u001b[0m           for parameters, (train, test) in product(candidate_params,\n\u001b[0;32m--> 638\u001b[0;31m                                                    cv.split(X, y, groups)))\n\u001b[0m\u001b[1;32m    639\u001b[0m \u001b[0;34m\u001b[0m\u001b[0m\n\u001b[1;32m    640\u001b[0m         \u001b[0;31m# if one choose to see train score, \"out\" will contain train score info\u001b[0m\u001b[0;34m\u001b[0m\u001b[0;34m\u001b[0m\u001b[0m\n",
      "\u001b[0;32m/Users/vickieliu/anaconda/lib/python3.5/site-packages/sklearn/externals/joblib/parallel.py\u001b[0m in \u001b[0;36m__call__\u001b[0;34m(self, iterable)\u001b[0m\n\u001b[1;32m    787\u001b[0m                 \u001b[0;31m# consumption.\u001b[0m\u001b[0;34m\u001b[0m\u001b[0;34m\u001b[0m\u001b[0m\n\u001b[1;32m    788\u001b[0m                 \u001b[0mself\u001b[0m\u001b[0;34m.\u001b[0m\u001b[0m_iterating\u001b[0m \u001b[0;34m=\u001b[0m \u001b[0;32mFalse\u001b[0m\u001b[0;34m\u001b[0m\u001b[0m\n\u001b[0;32m--> 789\u001b[0;31m             \u001b[0mself\u001b[0m\u001b[0;34m.\u001b[0m\u001b[0mretrieve\u001b[0m\u001b[0;34m(\u001b[0m\u001b[0;34m)\u001b[0m\u001b[0;34m\u001b[0m\u001b[0m\n\u001b[0m\u001b[1;32m    790\u001b[0m             \u001b[0;31m# Make sure that we get a last message telling us we are done\u001b[0m\u001b[0;34m\u001b[0m\u001b[0;34m\u001b[0m\u001b[0m\n\u001b[1;32m    791\u001b[0m             \u001b[0melapsed_time\u001b[0m \u001b[0;34m=\u001b[0m \u001b[0mtime\u001b[0m\u001b[0;34m.\u001b[0m\u001b[0mtime\u001b[0m\u001b[0;34m(\u001b[0m\u001b[0;34m)\u001b[0m \u001b[0;34m-\u001b[0m \u001b[0mself\u001b[0m\u001b[0;34m.\u001b[0m\u001b[0m_start_time\u001b[0m\u001b[0;34m\u001b[0m\u001b[0m\n",
      "\u001b[0;32m/Users/vickieliu/anaconda/lib/python3.5/site-packages/sklearn/externals/joblib/parallel.py\u001b[0m in \u001b[0;36mretrieve\u001b[0;34m(self)\u001b[0m\n\u001b[1;32m    738\u001b[0m                     \u001b[0mexception\u001b[0m \u001b[0;34m=\u001b[0m \u001b[0mexception_type\u001b[0m\u001b[0;34m(\u001b[0m\u001b[0mreport\u001b[0m\u001b[0;34m)\u001b[0m\u001b[0;34m\u001b[0m\u001b[0m\n\u001b[1;32m    739\u001b[0m \u001b[0;34m\u001b[0m\u001b[0m\n\u001b[0;32m--> 740\u001b[0;31m                     \u001b[0;32mraise\u001b[0m \u001b[0mexception\u001b[0m\u001b[0;34m\u001b[0m\u001b[0m\n\u001b[0m\u001b[1;32m    741\u001b[0m \u001b[0;34m\u001b[0m\u001b[0m\n\u001b[1;32m    742\u001b[0m     \u001b[0;32mdef\u001b[0m \u001b[0m__call__\u001b[0m\u001b[0;34m(\u001b[0m\u001b[0mself\u001b[0m\u001b[0;34m,\u001b[0m \u001b[0miterable\u001b[0m\u001b[0;34m)\u001b[0m\u001b[0;34m:\u001b[0m\u001b[0;34m\u001b[0m\u001b[0m\n",
      "\u001b[0;31mJoblibValueError\u001b[0m: JoblibValueError\n___________________________________________________________________________\nMultiprocessing exception:\n...........................................................................\n/Users/vickieliu/anaconda/lib/python3.5/runpy.py in _run_module_as_main(mod_name='ipykernel.__main__', alter_argv=1)\n    179         sys.exit(msg)\n    180     main_globals = sys.modules[\"__main__\"].__dict__\n    181     if alter_argv:\n    182         sys.argv[0] = mod_spec.origin\n    183     return _run_code(code, main_globals, None,\n--> 184                      \"__main__\", mod_spec)\n        mod_spec = ModuleSpec(name='ipykernel.__main__', loader=<_f...b/python3.5/site-packages/ipykernel/__main__.py')\n    185 \n    186 def run_module(mod_name, init_globals=None,\n    187                run_name=None, alter_sys=False):\n    188     \"\"\"Execute a module's code without importing it\n\n...........................................................................\n/Users/vickieliu/anaconda/lib/python3.5/runpy.py in _run_code(code=<code object <module> at 0x103b780c0, file \"/Use...3.5/site-packages/ipykernel/__main__.py\", line 1>, run_globals={'__builtins__': <module 'builtins' (built-in)>, '__cached__': '/Users/vickieliu/anaconda/lib/python3.5/site-packages/ipykernel/__pycache__/__main__.cpython-35.pyc', '__doc__': None, '__file__': '/Users/vickieliu/anaconda/lib/python3.5/site-packages/ipykernel/__main__.py', '__loader__': <_frozen_importlib_external.SourceFileLoader object>, '__name__': '__main__', '__package__': 'ipykernel', '__spec__': ModuleSpec(name='ipykernel.__main__', loader=<_f...b/python3.5/site-packages/ipykernel/__main__.py'), 'app': <module 'ipykernel.kernelapp' from '/Users/vicki.../python3.5/site-packages/ipykernel/kernelapp.py'>}, init_globals=None, mod_name='__main__', mod_spec=ModuleSpec(name='ipykernel.__main__', loader=<_f...b/python3.5/site-packages/ipykernel/__main__.py'), pkg_name='ipykernel', script_name=None)\n     80                        __cached__ = cached,\n     81                        __doc__ = None,\n     82                        __loader__ = loader,\n     83                        __package__ = pkg_name,\n     84                        __spec__ = mod_spec)\n---> 85     exec(code, run_globals)\n        code = <code object <module> at 0x103b780c0, file \"/Use...3.5/site-packages/ipykernel/__main__.py\", line 1>\n        run_globals = {'__builtins__': <module 'builtins' (built-in)>, '__cached__': '/Users/vickieliu/anaconda/lib/python3.5/site-packages/ipykernel/__pycache__/__main__.cpython-35.pyc', '__doc__': None, '__file__': '/Users/vickieliu/anaconda/lib/python3.5/site-packages/ipykernel/__main__.py', '__loader__': <_frozen_importlib_external.SourceFileLoader object>, '__name__': '__main__', '__package__': 'ipykernel', '__spec__': ModuleSpec(name='ipykernel.__main__', loader=<_f...b/python3.5/site-packages/ipykernel/__main__.py'), 'app': <module 'ipykernel.kernelapp' from '/Users/vicki.../python3.5/site-packages/ipykernel/kernelapp.py'>}\n     86     return run_globals\n     87 \n     88 def _run_module_code(code, init_globals=None,\n     89                     mod_name=None, mod_spec=None,\n\n...........................................................................\n/Users/vickieliu/anaconda/lib/python3.5/site-packages/ipykernel/__main__.py in <module>()\n      1 if __name__ == '__main__':\n      2     from ipykernel import kernelapp as app\n----> 3     app.launch_new_instance()\n\n...........................................................................\n/Users/vickieliu/anaconda/lib/python3.5/site-packages/traitlets/config/application.py in launch_instance(cls=<class 'ipykernel.kernelapp.IPKernelApp'>, argv=None, **kwargs={})\n    648 \n    649         If a global instance already exists, this reinitializes and starts it\n    650         \"\"\"\n    651         app = cls.instance(**kwargs)\n    652         app.initialize(argv)\n--> 653         app.start()\n        app.start = <bound method IPKernelApp.start of <ipykernel.kernelapp.IPKernelApp object>>\n    654 \n    655 #-----------------------------------------------------------------------------\n    656 # utility functions, for convenience\n    657 #-----------------------------------------------------------------------------\n\n...........................................................................\n/Users/vickieliu/anaconda/lib/python3.5/site-packages/ipykernel/kernelapp.py in start(self=<ipykernel.kernelapp.IPKernelApp object>)\n    469             return self.subapp.start()\n    470         if self.poller is not None:\n    471             self.poller.start()\n    472         self.kernel.start()\n    473         try:\n--> 474             ioloop.IOLoop.instance().start()\n    475         except KeyboardInterrupt:\n    476             pass\n    477 \n    478 launch_new_instance = IPKernelApp.launch_instance\n\n...........................................................................\n/Users/vickieliu/anaconda/lib/python3.5/site-packages/zmq/eventloop/ioloop.py in start(self=<zmq.eventloop.ioloop.ZMQIOLoop object>)\n    157             PollIOLoop.configure(ZMQIOLoop)\n    158         return PollIOLoop.current(*args, **kwargs)\n    159     \n    160     def start(self):\n    161         try:\n--> 162             super(ZMQIOLoop, self).start()\n        self.start = <bound method ZMQIOLoop.start of <zmq.eventloop.ioloop.ZMQIOLoop object>>\n    163         except ZMQError as e:\n    164             if e.errno == ETERM:\n    165                 # quietly return on ETERM\n    166                 pass\n\n...........................................................................\n/Users/vickieliu/anaconda/lib/python3.5/site-packages/tornado/ioloop.py in start(self=<zmq.eventloop.ioloop.ZMQIOLoop object>)\n    882                 self._events.update(event_pairs)\n    883                 while self._events:\n    884                     fd, events = self._events.popitem()\n    885                     try:\n    886                         fd_obj, handler_func = self._handlers[fd]\n--> 887                         handler_func(fd_obj, events)\n        handler_func = <function wrap.<locals>.null_wrapper>\n        fd_obj = <zmq.sugar.socket.Socket object>\n        events = 1\n    888                     except (OSError, IOError) as e:\n    889                         if errno_from_exception(e) == errno.EPIPE:\n    890                             # Happens when the client closes the connection\n    891                             pass\n\n...........................................................................\n/Users/vickieliu/anaconda/lib/python3.5/site-packages/tornado/stack_context.py in null_wrapper(*args=(<zmq.sugar.socket.Socket object>, 1), **kwargs={})\n    270         # Fast path when there are no active contexts.\n    271         def null_wrapper(*args, **kwargs):\n    272             try:\n    273                 current_state = _state.contexts\n    274                 _state.contexts = cap_contexts[0]\n--> 275                 return fn(*args, **kwargs)\n        args = (<zmq.sugar.socket.Socket object>, 1)\n        kwargs = {}\n    276             finally:\n    277                 _state.contexts = current_state\n    278         null_wrapper._wrapped = True\n    279         return null_wrapper\n\n...........................................................................\n/Users/vickieliu/anaconda/lib/python3.5/site-packages/zmq/eventloop/zmqstream.py in _handle_events(self=<zmq.eventloop.zmqstream.ZMQStream object>, fd=<zmq.sugar.socket.Socket object>, events=1)\n    435             # dispatch events:\n    436             if events & IOLoop.ERROR:\n    437                 gen_log.error(\"got POLLERR event on ZMQStream, which doesn't make sense\")\n    438                 return\n    439             if events & IOLoop.READ:\n--> 440                 self._handle_recv()\n        self._handle_recv = <bound method ZMQStream._handle_recv of <zmq.eventloop.zmqstream.ZMQStream object>>\n    441                 if not self.socket:\n    442                     return\n    443             if events & IOLoop.WRITE:\n    444                 self._handle_send()\n\n...........................................................................\n/Users/vickieliu/anaconda/lib/python3.5/site-packages/zmq/eventloop/zmqstream.py in _handle_recv(self=<zmq.eventloop.zmqstream.ZMQStream object>)\n    467                 gen_log.error(\"RECV Error: %s\"%zmq.strerror(e.errno))\n    468         else:\n    469             if self._recv_callback:\n    470                 callback = self._recv_callback\n    471                 # self._recv_callback = None\n--> 472                 self._run_callback(callback, msg)\n        self._run_callback = <bound method ZMQStream._run_callback of <zmq.eventloop.zmqstream.ZMQStream object>>\n        callback = <function wrap.<locals>.null_wrapper>\n        msg = [<zmq.sugar.frame.Frame object>, <zmq.sugar.frame.Frame object>, <zmq.sugar.frame.Frame object>, <zmq.sugar.frame.Frame object>, <zmq.sugar.frame.Frame object>, <zmq.sugar.frame.Frame object>, <zmq.sugar.frame.Frame object>]\n    473                 \n    474         # self.update_state()\n    475         \n    476 \n\n...........................................................................\n/Users/vickieliu/anaconda/lib/python3.5/site-packages/zmq/eventloop/zmqstream.py in _run_callback(self=<zmq.eventloop.zmqstream.ZMQStream object>, callback=<function wrap.<locals>.null_wrapper>, *args=([<zmq.sugar.frame.Frame object>, <zmq.sugar.frame.Frame object>, <zmq.sugar.frame.Frame object>, <zmq.sugar.frame.Frame object>, <zmq.sugar.frame.Frame object>, <zmq.sugar.frame.Frame object>, <zmq.sugar.frame.Frame object>],), **kwargs={})\n    409         close our socket.\"\"\"\n    410         try:\n    411             # Use a NullContext to ensure that all StackContexts are run\n    412             # inside our blanket exception handler rather than outside.\n    413             with stack_context.NullContext():\n--> 414                 callback(*args, **kwargs)\n        callback = <function wrap.<locals>.null_wrapper>\n        args = ([<zmq.sugar.frame.Frame object>, <zmq.sugar.frame.Frame object>, <zmq.sugar.frame.Frame object>, <zmq.sugar.frame.Frame object>, <zmq.sugar.frame.Frame object>, <zmq.sugar.frame.Frame object>, <zmq.sugar.frame.Frame object>],)\n        kwargs = {}\n    415         except:\n    416             gen_log.error(\"Uncaught exception, closing connection.\",\n    417                           exc_info=True)\n    418             # Close the socket on an uncaught exception from a user callback\n\n...........................................................................\n/Users/vickieliu/anaconda/lib/python3.5/site-packages/tornado/stack_context.py in null_wrapper(*args=([<zmq.sugar.frame.Frame object>, <zmq.sugar.frame.Frame object>, <zmq.sugar.frame.Frame object>, <zmq.sugar.frame.Frame object>, <zmq.sugar.frame.Frame object>, <zmq.sugar.frame.Frame object>, <zmq.sugar.frame.Frame object>],), **kwargs={})\n    270         # Fast path when there are no active contexts.\n    271         def null_wrapper(*args, **kwargs):\n    272             try:\n    273                 current_state = _state.contexts\n    274                 _state.contexts = cap_contexts[0]\n--> 275                 return fn(*args, **kwargs)\n        args = ([<zmq.sugar.frame.Frame object>, <zmq.sugar.frame.Frame object>, <zmq.sugar.frame.Frame object>, <zmq.sugar.frame.Frame object>, <zmq.sugar.frame.Frame object>, <zmq.sugar.frame.Frame object>, <zmq.sugar.frame.Frame object>],)\n        kwargs = {}\n    276             finally:\n    277                 _state.contexts = current_state\n    278         null_wrapper._wrapped = True\n    279         return null_wrapper\n\n...........................................................................\n/Users/vickieliu/anaconda/lib/python3.5/site-packages/ipykernel/kernelbase.py in dispatcher(msg=[<zmq.sugar.frame.Frame object>, <zmq.sugar.frame.Frame object>, <zmq.sugar.frame.Frame object>, <zmq.sugar.frame.Frame object>, <zmq.sugar.frame.Frame object>, <zmq.sugar.frame.Frame object>, <zmq.sugar.frame.Frame object>])\n    271         if self.control_stream:\n    272             self.control_stream.on_recv(self.dispatch_control, copy=False)\n    273 \n    274         def make_dispatcher(stream):\n    275             def dispatcher(msg):\n--> 276                 return self.dispatch_shell(stream, msg)\n        msg = [<zmq.sugar.frame.Frame object>, <zmq.sugar.frame.Frame object>, <zmq.sugar.frame.Frame object>, <zmq.sugar.frame.Frame object>, <zmq.sugar.frame.Frame object>, <zmq.sugar.frame.Frame object>, <zmq.sugar.frame.Frame object>]\n    277             return dispatcher\n    278 \n    279         for s in self.shell_streams:\n    280             s.on_recv(make_dispatcher(s), copy=False)\n\n...........................................................................\n/Users/vickieliu/anaconda/lib/python3.5/site-packages/ipykernel/kernelbase.py in dispatch_shell(self=<ipykernel.ipkernel.IPythonKernel object>, stream=<zmq.eventloop.zmqstream.ZMQStream object>, msg={'buffers': [], 'content': {'allow_stdin': True, 'code': '%%time\\n\\nmodel = build_model()\\nmodel.fit(X_train, y_train)', 'silent': False, 'stop_on_error': True, 'store_history': True, 'user_expressions': {}}, 'header': {'date': '2019-12-15T23:29:08.543633', 'msg_id': '3AB31A0C56C347628CB5D4A6DBE9E97E', 'msg_type': 'execute_request', 'session': '8DE3ADEDCD244D4CA5BE5D4421A2F445', 'username': 'username', 'version': '5.0'}, 'metadata': {}, 'msg_id': '3AB31A0C56C347628CB5D4A6DBE9E97E', 'msg_type': 'execute_request', 'parent_header': {}})\n    223             self.log.error(\"UNKNOWN MESSAGE TYPE: %r\", msg_type)\n    224         else:\n    225             self.log.debug(\"%s: %s\", msg_type, msg)\n    226             self.pre_handler_hook()\n    227             try:\n--> 228                 handler(stream, idents, msg)\n        handler = <bound method Kernel.execute_request of <ipykernel.ipkernel.IPythonKernel object>>\n        stream = <zmq.eventloop.zmqstream.ZMQStream object>\n        idents = [b'8DE3ADEDCD244D4CA5BE5D4421A2F445']\n        msg = {'buffers': [], 'content': {'allow_stdin': True, 'code': '%%time\\n\\nmodel = build_model()\\nmodel.fit(X_train, y_train)', 'silent': False, 'stop_on_error': True, 'store_history': True, 'user_expressions': {}}, 'header': {'date': '2019-12-15T23:29:08.543633', 'msg_id': '3AB31A0C56C347628CB5D4A6DBE9E97E', 'msg_type': 'execute_request', 'session': '8DE3ADEDCD244D4CA5BE5D4421A2F445', 'username': 'username', 'version': '5.0'}, 'metadata': {}, 'msg_id': '3AB31A0C56C347628CB5D4A6DBE9E97E', 'msg_type': 'execute_request', 'parent_header': {}}\n    229             except Exception:\n    230                 self.log.error(\"Exception in message handler:\", exc_info=True)\n    231             finally:\n    232                 self.post_handler_hook()\n\n...........................................................................\n/Users/vickieliu/anaconda/lib/python3.5/site-packages/ipykernel/kernelbase.py in execute_request(self=<ipykernel.ipkernel.IPythonKernel object>, stream=<zmq.eventloop.zmqstream.ZMQStream object>, ident=[b'8DE3ADEDCD244D4CA5BE5D4421A2F445'], parent={'buffers': [], 'content': {'allow_stdin': True, 'code': '%%time\\n\\nmodel = build_model()\\nmodel.fit(X_train, y_train)', 'silent': False, 'stop_on_error': True, 'store_history': True, 'user_expressions': {}}, 'header': {'date': '2019-12-15T23:29:08.543633', 'msg_id': '3AB31A0C56C347628CB5D4A6DBE9E97E', 'msg_type': 'execute_request', 'session': '8DE3ADEDCD244D4CA5BE5D4421A2F445', 'username': 'username', 'version': '5.0'}, 'metadata': {}, 'msg_id': '3AB31A0C56C347628CB5D4A6DBE9E97E', 'msg_type': 'execute_request', 'parent_header': {}})\n    385         if not silent:\n    386             self.execution_count += 1\n    387             self._publish_execute_input(code, parent, self.execution_count)\n    388 \n    389         reply_content = self.do_execute(code, silent, store_history,\n--> 390                                         user_expressions, allow_stdin)\n        user_expressions = {}\n        allow_stdin = True\n    391 \n    392         # Flush output before sending the reply.\n    393         sys.stdout.flush()\n    394         sys.stderr.flush()\n\n...........................................................................\n/Users/vickieliu/anaconda/lib/python3.5/site-packages/ipykernel/ipkernel.py in do_execute(self=<ipykernel.ipkernel.IPythonKernel object>, code='%%time\\n\\nmodel = build_model()\\nmodel.fit(X_train, y_train)', silent=False, store_history=True, user_expressions={}, allow_stdin=True)\n    191 \n    192         self._forward_input(allow_stdin)\n    193 \n    194         reply_content = {}\n    195         try:\n--> 196             res = shell.run_cell(code, store_history=store_history, silent=silent)\n        res = undefined\n        shell.run_cell = <bound method ZMQInteractiveShell.run_cell of <ipykernel.zmqshell.ZMQInteractiveShell object>>\n        code = '%%time\\n\\nmodel = build_model()\\nmodel.fit(X_train, y_train)'\n        store_history = True\n        silent = False\n    197         finally:\n    198             self._restore_input()\n    199 \n    200         if res.error_before_exec is not None:\n\n...........................................................................\n/Users/vickieliu/anaconda/lib/python3.5/site-packages/ipykernel/zmqshell.py in run_cell(self=<ipykernel.zmqshell.ZMQInteractiveShell object>, *args=('%%time\\n\\nmodel = build_model()\\nmodel.fit(X_train, y_train)',), **kwargs={'silent': False, 'store_history': True})\n    496             )\n    497         self.payload_manager.write_payload(payload)\n    498 \n    499     def run_cell(self, *args, **kwargs):\n    500         self._last_traceback = None\n--> 501         return super(ZMQInteractiveShell, self).run_cell(*args, **kwargs)\n        self.run_cell = <bound method ZMQInteractiveShell.run_cell of <ipykernel.zmqshell.ZMQInteractiveShell object>>\n        args = ('%%time\\n\\nmodel = build_model()\\nmodel.fit(X_train, y_train)',)\n        kwargs = {'silent': False, 'store_history': True}\n    502 \n    503     def _showtraceback(self, etype, evalue, stb):\n    504         # try to preserve ordering of tracebacks and print statements\n    505         sys.stdout.flush()\n\n...........................................................................\n/Users/vickieliu/anaconda/lib/python3.5/site-packages/IPython/core/interactiveshell.py in run_cell(self=<ipykernel.zmqshell.ZMQInteractiveShell object>, raw_cell='%%time\\n\\nmodel = build_model()\\nmodel.fit(X_train, y_train)', store_history=True, silent=False, shell_futures=True)\n   2712                 self.displayhook.exec_result = result\n   2713 \n   2714                 # Execute the user code\n   2715                 interactivity = \"none\" if silent else self.ast_node_interactivity\n   2716                 has_raised = self.run_ast_nodes(code_ast.body, cell_name,\n-> 2717                    interactivity=interactivity, compiler=compiler, result=result)\n        interactivity = 'last_expr'\n        compiler = <IPython.core.compilerop.CachingCompiler object>\n   2718                 \n   2719                 self.last_execution_succeeded = not has_raised\n   2720 \n   2721                 # Reset this so later displayed values do not modify the\n\n...........................................................................\n/Users/vickieliu/anaconda/lib/python3.5/site-packages/IPython/core/interactiveshell.py in run_ast_nodes(self=<ipykernel.zmqshell.ZMQInteractiveShell object>, nodelist=[<_ast.Expr object>], cell_name='<ipython-input-9-fcaada12a090>', interactivity='last', compiler=<IPython.core.compilerop.CachingCompiler object>, result=<ExecutionResult object at 1238d90b8, execution_..._before_exec=None error_in_exec=None result=None>)\n   2822                     return True\n   2823 \n   2824             for i, node in enumerate(to_run_interactive):\n   2825                 mod = ast.Interactive([node])\n   2826                 code = compiler(mod, cell_name, \"single\")\n-> 2827                 if self.run_code(code, result):\n        self.run_code = <bound method InteractiveShell.run_code of <ipykernel.zmqshell.ZMQInteractiveShell object>>\n        code = <code object <module> at 0x1251a4ed0, file \"<ipython-input-9-fcaada12a090>\", line 1>\n        result = <ExecutionResult object at 1238d90b8, execution_..._before_exec=None error_in_exec=None result=None>\n   2828                     return True\n   2829 \n   2830             # Flush softspace\n   2831             if softspace(sys.stdout, 0):\n\n...........................................................................\n/Users/vickieliu/anaconda/lib/python3.5/site-packages/IPython/core/interactiveshell.py in run_code(self=<ipykernel.zmqshell.ZMQInteractiveShell object>, code_obj=<code object <module> at 0x1251a4ed0, file \"<ipython-input-9-fcaada12a090>\", line 1>, result=<ExecutionResult object at 1238d90b8, execution_..._before_exec=None error_in_exec=None result=None>)\n   2876         outflag = 1  # happens in more places, so it's easier as default\n   2877         try:\n   2878             try:\n   2879                 self.hooks.pre_run_code_hook()\n   2880                 #rprint('Running code', repr(code_obj)) # dbg\n-> 2881                 exec(code_obj, self.user_global_ns, self.user_ns)\n        code_obj = <code object <module> at 0x1251a4ed0, file \"<ipython-input-9-fcaada12a090>\", line 1>\n        self.user_global_ns = {'CountVectorizer': <class 'sklearn.feature_extraction.text.CountVectorizer'>, 'FeatureUnion': <class 'sklearn.pipeline.FeatureUnion'>, 'GridSearchCV': <class 'sklearn.model_selection._search.GridSearchCV'>, 'In': ['', '# import libraries\\nimport pandas as pd\\nfrom sqla...rom sklearn.externals import joblib\\nimport pickle', \"categories = ['related', 'request', 'offer', 'ai...quake', 'cold', 'other_weather', 'direct_report']\", '# load data from database\\nengine = create_engine...]\\nX = df.message.values\\ny = df[categories].values', 'X.shape', 'def tokenize(text):\\n    # Normalize text\\n    tex...pend(clean_tok)\\n    \\n    return clean_tokens\\n    ', \"def build_model():\\n    pipeline = Pipeline([\\n   ...ighted', n_jobs=-1, verbose=1)\\n    \\n    return cv\", \"def build_model():\\n    pipeline = Pipeline([\\n   ...ring='f1_weighted', n_jobs=-1)\\n    \\n    return cv\", 'X_train, X_test, y_train, y_test = train_test_split(X, y)', r\"get_ipython().run_cell_magic('time', '', '\\nmodel = build_model()\\nmodel.fit(X_train, y_train)')\"], 'KNeighborsClassifier': <class 'sklearn.neighbors.classification.KNeighborsClassifier'>, 'MultiOutputClassifier': <class 'sklearn.multioutput.MultiOutputClassifier'>, 'Out': {4: (26180,)}, 'Pipeline': <class 'sklearn.pipeline.Pipeline'>, 'PorterStemmer': <class 'nltk.stem.porter.PorterStemmer'>, 'TfidfTransformer': <class 'sklearn.feature_extraction.text.TfidfTransformer'>, ...}\n        self.user_ns = {'CountVectorizer': <class 'sklearn.feature_extraction.text.CountVectorizer'>, 'FeatureUnion': <class 'sklearn.pipeline.FeatureUnion'>, 'GridSearchCV': <class 'sklearn.model_selection._search.GridSearchCV'>, 'In': ['', '# import libraries\\nimport pandas as pd\\nfrom sqla...rom sklearn.externals import joblib\\nimport pickle', \"categories = ['related', 'request', 'offer', 'ai...quake', 'cold', 'other_weather', 'direct_report']\", '# load data from database\\nengine = create_engine...]\\nX = df.message.values\\ny = df[categories].values', 'X.shape', 'def tokenize(text):\\n    # Normalize text\\n    tex...pend(clean_tok)\\n    \\n    return clean_tokens\\n    ', \"def build_model():\\n    pipeline = Pipeline([\\n   ...ighted', n_jobs=-1, verbose=1)\\n    \\n    return cv\", \"def build_model():\\n    pipeline = Pipeline([\\n   ...ring='f1_weighted', n_jobs=-1)\\n    \\n    return cv\", 'X_train, X_test, y_train, y_test = train_test_split(X, y)', r\"get_ipython().run_cell_magic('time', '', '\\nmodel = build_model()\\nmodel.fit(X_train, y_train)')\"], 'KNeighborsClassifier': <class 'sklearn.neighbors.classification.KNeighborsClassifier'>, 'MultiOutputClassifier': <class 'sklearn.multioutput.MultiOutputClassifier'>, 'Out': {4: (26180,)}, 'Pipeline': <class 'sklearn.pipeline.Pipeline'>, 'PorterStemmer': <class 'nltk.stem.porter.PorterStemmer'>, 'TfidfTransformer': <class 'sklearn.feature_extraction.text.TfidfTransformer'>, ...}\n   2882             finally:\n   2883                 # Reset our crash handler in place\n   2884                 sys.excepthook = old_excepthook\n   2885         except SystemExit as e:\n\n...........................................................................\n/Users/vickieliu/Documents/Git/DataScientist_Udacity/DSND_Disaster_Response_Pipelines/<ipython-input-9-fcaada12a090> in <module>()\n----> 1 get_ipython().run_cell_magic('time', '', '\\nmodel = build_model()\\nmodel.fit(X_train, y_train)')\n\n...........................................................................\n/Users/vickieliu/anaconda/lib/python3.5/site-packages/IPython/core/interactiveshell.py in run_cell_magic(self=<ipykernel.zmqshell.ZMQInteractiveShell object>, magic_name='time', line='', cell='\\nmodel = build_model()\\nmodel.fit(X_train, y_train)')\n   2110             # This will need to be updated if the internal calling logic gets\n   2111             # refactored, or else we'll be expanding the wrong variables.\n   2112             stack_depth = 2\n   2113             magic_arg_s = self.var_expand(line, stack_depth)\n   2114             with self.builtin_trap:\n-> 2115                 result = fn(magic_arg_s, cell)\n        result = undefined\n        fn = <bound method ExecutionMagics.time of <IPython.core.magics.execution.ExecutionMagics object>>\n        magic_arg_s = ''\n        cell = '\\nmodel = build_model()\\nmodel.fit(X_train, y_train)'\n   2116             return result\n   2117 \n   2118     def find_line_magic(self, magic_name):\n   2119         \"\"\"Find and return a line magic by name.\n\n...........................................................................\n/Users/vickieliu/Documents/Git/DataScientist_Udacity/DSND_Disaster_Response_Pipelines/<decorator-gen-59> in time(self=<IPython.core.magics.execution.ExecutionMagics object>, line='', cell='\\nmodel = build_model()\\nmodel.fit(X_train, y_train)', local_ns=None)\n\n...........................................................................\n/Users/vickieliu/anaconda/lib/python3.5/site-packages/IPython/core/magic.py in <lambda>(f=<function ExecutionMagics.time>, *a=(<IPython.core.magics.execution.ExecutionMagics object>, '', '\\nmodel = build_model()\\nmodel.fit(X_train, y_train)', None), **k={})\n    183     validate_type(magic_kind)\n    184 \n    185     # This is a closure to capture the magic_kind.  We could also use a class,\n    186     # but it's overkill for just that one bit of state.\n    187     def magic_deco(arg):\n--> 188         call = lambda f, *a, **k: f(*a, **k)\n        f = <function ExecutionMagics.time>\n        a = (<IPython.core.magics.execution.ExecutionMagics object>, '', '\\nmodel = build_model()\\nmodel.fit(X_train, y_train)', None)\n        k = {}\n    189 \n    190         if callable(arg):\n    191             # \"Naked\" decorator call (just @foo, no args)\n    192             func = arg\n\n...........................................................................\n/Users/vickieliu/anaconda/lib/python3.5/site-packages/IPython/core/magics/execution.py in time(self=<IPython.core.magics.execution.ExecutionMagics object>, line='', cell='\\nmodel = build_model()\\nmodel.fit(X_train, y_train)', local_ns=None)\n   1175             st = clock2()\n   1176             out = eval(code, glob, local_ns)\n   1177             end = clock2()\n   1178         else:\n   1179             st = clock2()\n-> 1180             exec(code, glob, local_ns)\n        code = <code object <module> at 0x1238de030, file \"<timed exec>\", line 2>\n        glob = {'CountVectorizer': <class 'sklearn.feature_extraction.text.CountVectorizer'>, 'FeatureUnion': <class 'sklearn.pipeline.FeatureUnion'>, 'GridSearchCV': <class 'sklearn.model_selection._search.GridSearchCV'>, 'In': ['', '# import libraries\\nimport pandas as pd\\nfrom sqla...rom sklearn.externals import joblib\\nimport pickle', \"categories = ['related', 'request', 'offer', 'ai...quake', 'cold', 'other_weather', 'direct_report']\", '# load data from database\\nengine = create_engine...]\\nX = df.message.values\\ny = df[categories].values', 'X.shape', 'def tokenize(text):\\n    # Normalize text\\n    tex...pend(clean_tok)\\n    \\n    return clean_tokens\\n    ', \"def build_model():\\n    pipeline = Pipeline([\\n   ...ighted', n_jobs=-1, verbose=1)\\n    \\n    return cv\", \"def build_model():\\n    pipeline = Pipeline([\\n   ...ring='f1_weighted', n_jobs=-1)\\n    \\n    return cv\", 'X_train, X_test, y_train, y_test = train_test_split(X, y)', r\"get_ipython().run_cell_magic('time', '', '\\nmodel = build_model()\\nmodel.fit(X_train, y_train)')\"], 'KNeighborsClassifier': <class 'sklearn.neighbors.classification.KNeighborsClassifier'>, 'MultiOutputClassifier': <class 'sklearn.multioutput.MultiOutputClassifier'>, 'Out': {4: (26180,)}, 'Pipeline': <class 'sklearn.pipeline.Pipeline'>, 'PorterStemmer': <class 'nltk.stem.porter.PorterStemmer'>, 'TfidfTransformer': <class 'sklearn.feature_extraction.text.TfidfTransformer'>, ...}\n        local_ns = None\n   1181             end = clock2()\n   1182             out = None\n   1183         wall_end = wtime()\n   1184         # Compute actual times and report\n\n...........................................................................\n/Users/vickieliu/Documents/Git/DataScientist_Udacity/DSND_Disaster_Response_Pipelines/<timed exec> in <module>()\n\n...........................................................................\n/Users/vickieliu/anaconda/lib/python3.5/site-packages/sklearn/model_selection/_search.py in fit(self=GridSearchCV(cv=None, error_score='raise',\n     ...re=True,\n       scoring='f1_weighted', verbose=0), X=array(['Another quick trip to Santiago..',\n     ...da , santa cruz (: ja colei , rs'], dtype=object), y=array([[0, 0, 0, ..., 0, 0, 0],\n       [0, 0, 0,..., ..., 0, 0, 0],\n       [2, 0, 0, ..., 0, 0, 0]]), groups=None, **fit_params={})\n    633                                   return_train_score=self.return_train_score,\n    634                                   return_n_test_samples=True,\n    635                                   return_times=True, return_parameters=False,\n    636                                   error_score=self.error_score)\n    637           for parameters, (train, test) in product(candidate_params,\n--> 638                                                    cv.split(X, y, groups)))\n        cv.split = <bound method _BaseKFold.split of KFold(n_splits=3, random_state=None, shuffle=False)>\n        X = array(['Another quick trip to Santiago..',\n     ...da , santa cruz (: ja colei , rs'], dtype=object)\n        y = array([[0, 0, 0, ..., 0, 0, 0],\n       [0, 0, 0,..., ..., 0, 0, 0],\n       [2, 0, 0, ..., 0, 0, 0]])\n        groups = None\n    639 \n    640         # if one choose to see train score, \"out\" will contain train score info\n    641         if self.return_train_score:\n    642             (train_score_dicts, test_score_dicts, test_sample_counts, fit_time,\n\n...........................................................................\n/Users/vickieliu/anaconda/lib/python3.5/site-packages/sklearn/externals/joblib/parallel.py in __call__(self=Parallel(n_jobs=-1), iterable=<generator object BaseSearchCV.fit.<locals>.<genexpr>>)\n    784             if pre_dispatch == \"all\" or n_jobs == 1:\n    785                 # The iterable was consumed all at once by the above for loop.\n    786                 # No need to wait for async callbacks to trigger to\n    787                 # consumption.\n    788                 self._iterating = False\n--> 789             self.retrieve()\n        self.retrieve = <bound method Parallel.retrieve of Parallel(n_jobs=-1)>\n    790             # Make sure that we get a last message telling us we are done\n    791             elapsed_time = time.time() - self._start_time\n    792             self._print('Done %3i out of %3i | elapsed: %s finished',\n    793                         (len(self._output), len(self._output),\n\n---------------------------------------------------------------------------\nSub-process traceback:\n---------------------------------------------------------------------------\nValueError                                         Sun Dec 15 23:32:48 2019\nPID: 59244               Python 3.5.2: /Users/vickieliu/anaconda/bin/python\n...........................................................................\n/Users/vickieliu/anaconda/lib/python3.5/site-packages/sklearn/externals/joblib/parallel.py in __call__(self=<sklearn.externals.joblib.parallel.BatchedCalls object>)\n    126     def __init__(self, iterator_slice):\n    127         self.items = list(iterator_slice)\n    128         self._size = len(self.items)\n    129 \n    130     def __call__(self):\n--> 131         return [func(*args, **kwargs) for func, args, kwargs in self.items]\n        self.items = [(<function _fit_and_score>, (Pipeline(memory=None,\n     steps=[('vect', Count...      weights='uniform'),\n           n_jobs=1))]), array(['Another quick trip to Santiago..',\n     ...da , santa cruz (: ja colei , rs'], dtype=object), memmap([[0, 0, 0, ..., 0, 0, 0],\n        [0, 0, ... ..., 0, 0, 0],\n        [2, 0, 0, ..., 0, 0, 0]]), {'score': make_scorer(f1_score, pos_label=None, average=weighted)}, array([ 6545,  6546,  6547, ..., 19632, 19633, 19634]), array([   0,    1,    2, ..., 6542, 6543, 6544]), 0, {'vect__ngram_range': (1, 1)}), {'error_score': 'raise', 'fit_params': {}, 'return_n_test_samples': True, 'return_parameters': False, 'return_times': True, 'return_train_score': True})]\n    132 \n    133     def __len__(self):\n    134         return self._size\n    135 \n\n...........................................................................\n/Users/vickieliu/anaconda/lib/python3.5/site-packages/sklearn/externals/joblib/parallel.py in <listcomp>(.0=<list_iterator object>)\n    126     def __init__(self, iterator_slice):\n    127         self.items = list(iterator_slice)\n    128         self._size = len(self.items)\n    129 \n    130     def __call__(self):\n--> 131         return [func(*args, **kwargs) for func, args, kwargs in self.items]\n        func = <function _fit_and_score>\n        args = (Pipeline(memory=None,\n     steps=[('vect', Count...      weights='uniform'),\n           n_jobs=1))]), array(['Another quick trip to Santiago..',\n     ...da , santa cruz (: ja colei , rs'], dtype=object), memmap([[0, 0, 0, ..., 0, 0, 0],\n        [0, 0, ... ..., 0, 0, 0],\n        [2, 0, 0, ..., 0, 0, 0]]), {'score': make_scorer(f1_score, pos_label=None, average=weighted)}, array([ 6545,  6546,  6547, ..., 19632, 19633, 19634]), array([   0,    1,    2, ..., 6542, 6543, 6544]), 0, {'vect__ngram_range': (1, 1)})\n        kwargs = {'error_score': 'raise', 'fit_params': {}, 'return_n_test_samples': True, 'return_parameters': False, 'return_times': True, 'return_train_score': True}\n    132 \n    133     def __len__(self):\n    134         return self._size\n    135 \n\n...........................................................................\n/Users/vickieliu/anaconda/lib/python3.5/site-packages/sklearn/model_selection/_validation.py in _fit_and_score(estimator=Pipeline(memory=None,\n     steps=[('vect', Count...      weights='uniform'),\n           n_jobs=1))]), X=array(['Another quick trip to Santiago..',\n     ...da , santa cruz (: ja colei , rs'], dtype=object), y=memmap([[0, 0, 0, ..., 0, 0, 0],\n        [0, 0, ... ..., 0, 0, 0],\n        [2, 0, 0, ..., 0, 0, 0]]), scorer={'score': make_scorer(f1_score, pos_label=None, average=weighted)}, train=array([ 6545,  6546,  6547, ..., 19632, 19633, 19634]), test=array([   0,    1,    2, ..., 6542, 6543, 6544]), verbose=0, parameters={'vect__ngram_range': (1, 1)}, fit_params={}, return_train_score=True, return_parameters=False, return_n_test_samples=True, return_times=True, error_score='raise')\n    462                              \" make sure that it has been spelled correctly.)\")\n    463 \n    464     else:\n    465         fit_time = time.time() - start_time\n    466         # _score will return dict if is_multimetric is True\n--> 467         test_scores = _score(estimator, X_test, y_test, scorer, is_multimetric)\n        test_scores = {}\n        estimator = Pipeline(memory=None,\n     steps=[('vect', Count...      weights='uniform'),\n           n_jobs=1))])\n        X_test = array(['Another quick trip to Santiago..',\n     ... Saddening news about earthquake'], dtype=object)\n        y_test = memmap([[0, 0, 0, ..., 0, 0, 0],\n        [0, 0, ... ..., 0, 0, 0],\n        [1, 0, 0, ..., 0, 0, 0]])\n        scorer = {'score': make_scorer(f1_score, pos_label=None, average=weighted)}\n        is_multimetric = True\n    468         score_time = time.time() - start_time - fit_time\n    469         if return_train_score:\n    470             train_scores = _score(estimator, X_train, y_train, scorer,\n    471                                   is_multimetric)\n\n...........................................................................\n/Users/vickieliu/anaconda/lib/python3.5/site-packages/sklearn/model_selection/_validation.py in _score(estimator=Pipeline(memory=None,\n     steps=[('vect', Count...      weights='uniform'),\n           n_jobs=1))]), X_test=array(['Another quick trip to Santiago..',\n     ... Saddening news about earthquake'], dtype=object), y_test=memmap([[0, 0, 0, ..., 0, 0, 0],\n        [0, 0, ... ..., 0, 0, 0],\n        [1, 0, 0, ..., 0, 0, 0]]), scorer={'score': make_scorer(f1_score, pos_label=None, average=weighted)}, is_multimetric=True)\n    497 \n    498     Will return a single float if is_multimetric is False and a dict of floats,\n    499     if is_multimetric is True\n    500     \"\"\"\n    501     if is_multimetric:\n--> 502         return _multimetric_score(estimator, X_test, y_test, scorer)\n        estimator = Pipeline(memory=None,\n     steps=[('vect', Count...      weights='uniform'),\n           n_jobs=1))])\n        X_test = array(['Another quick trip to Santiago..',\n     ... Saddening news about earthquake'], dtype=object)\n        y_test = memmap([[0, 0, 0, ..., 0, 0, 0],\n        [0, 0, ... ..., 0, 0, 0],\n        [1, 0, 0, ..., 0, 0, 0]])\n        scorer = {'score': make_scorer(f1_score, pos_label=None, average=weighted)}\n    503     else:\n    504         if y_test is None:\n    505             score = scorer(estimator, X_test)\n    506         else:\n\n...........................................................................\n/Users/vickieliu/anaconda/lib/python3.5/site-packages/sklearn/model_selection/_validation.py in _multimetric_score(estimator=Pipeline(memory=None,\n     steps=[('vect', Count...      weights='uniform'),\n           n_jobs=1))]), X_test=array(['Another quick trip to Santiago..',\n     ... Saddening news about earthquake'], dtype=object), y_test=memmap([[0, 0, 0, ..., 0, 0, 0],\n        [0, 0, ... ..., 0, 0, 0],\n        [1, 0, 0, ..., 0, 0, 0]]), scorers={'score': make_scorer(f1_score, pos_label=None, average=weighted)})\n    527 \n    528     for name, scorer in scorers.items():\n    529         if y_test is None:\n    530             score = scorer(estimator, X_test)\n    531         else:\n--> 532             score = scorer(estimator, X_test, y_test)\n        score = undefined\n        scorer = make_scorer(f1_score, pos_label=None, average=weighted)\n        estimator = Pipeline(memory=None,\n     steps=[('vect', Count...      weights='uniform'),\n           n_jobs=1))])\n        X_test = array(['Another quick trip to Santiago..',\n     ... Saddening news about earthquake'], dtype=object)\n        y_test = memmap([[0, 0, 0, ..., 0, 0, 0],\n        [0, 0, ... ..., 0, 0, 0],\n        [1, 0, 0, ..., 0, 0, 0]])\n    533 \n    534         if hasattr(score, 'item'):\n    535             try:\n    536                 # e.g. unwrap memmapped scalars\n\n...........................................................................\n/Users/vickieliu/anaconda/lib/python3.5/site-packages/sklearn/metrics/scorer.py in __call__(self=make_scorer(f1_score, pos_label=None, average=weighted), estimator=Pipeline(memory=None,\n     steps=[('vect', Count...      weights='uniform'),\n           n_jobs=1))]), X=array(['Another quick trip to Santiago..',\n     ... Saddening news about earthquake'], dtype=object), y_true=memmap([[0, 0, 0, ..., 0, 0, 0],\n        [0, 0, ... ..., 0, 0, 0],\n        [1, 0, 0, ..., 0, 0, 0]]), sample_weight=None)\n    103             return self._sign * self._score_func(y_true, y_pred,\n    104                                                  sample_weight=sample_weight,\n    105                                                  **self._kwargs)\n    106         else:\n    107             return self._sign * self._score_func(y_true, y_pred,\n--> 108                                                  **self._kwargs)\n        self._kwargs = {'average': 'weighted', 'pos_label': None}\n    109 \n    110 \n    111 class _ProbaScorer(_BaseScorer):\n    112     def __call__(self, clf, X, y, sample_weight=None):\n\n...........................................................................\n/Users/vickieliu/anaconda/lib/python3.5/site-packages/sklearn/metrics/classification.py in f1_score(y_true=memmap([[0, 0, 0, ..., 0, 0, 0],\n        [0, 0, ... ..., 0, 0, 0],\n        [1, 0, 0, ..., 0, 0, 0]]), y_pred=array([[0, 0, 0, ..., 0, 0, 0],\n       [0, 0, 0,..., ..., 0, 0, 0],\n       [1, 0, 0, ..., 0, 0, 0]]), labels=None, pos_label=None, average='weighted', sample_weight=None)\n    709 \n    710 \n    711     \"\"\"\n    712     return fbeta_score(y_true, y_pred, 1, labels=labels,\n    713                        pos_label=pos_label, average=average,\n--> 714                        sample_weight=sample_weight)\n        sample_weight = None\n    715 \n    716 \n    717 def fbeta_score(y_true, y_pred, beta, labels=None, pos_label=1,\n    718                 average='binary', sample_weight=None):\n\n...........................................................................\n/Users/vickieliu/anaconda/lib/python3.5/site-packages/sklearn/metrics/classification.py in fbeta_score(y_true=memmap([[0, 0, 0, ..., 0, 0, 0],\n        [0, 0, ... ..., 0, 0, 0],\n        [1, 0, 0, ..., 0, 0, 0]]), y_pred=array([[0, 0, 0, ..., 0, 0, 0],\n       [0, 0, 0,..., ..., 0, 0, 0],\n       [1, 0, 0, ..., 0, 0, 0]]), beta=1, labels=None, pos_label=None, average='weighted', sample_weight=None)\n    823                                                  beta=beta,\n    824                                                  labels=labels,\n    825                                                  pos_label=pos_label,\n    826                                                  average=average,\n    827                                                  warn_for=('f-score',),\n--> 828                                                  sample_weight=sample_weight)\n        sample_weight = None\n    829     return f\n    830 \n    831 \n    832 def _prf_divide(numerator, denominator, metric, modifier, average, warn_for):\n\n...........................................................................\n/Users/vickieliu/anaconda/lib/python3.5/site-packages/sklearn/metrics/classification.py in precision_recall_fscore_support(y_true=memmap([[0, 0, 0, ..., 0, 0, 0],\n        [0, 0, ... ..., 0, 0, 0],\n        [1, 0, 0, ..., 0, 0, 0]]), y_pred=array([[0, 0, 0, ..., 0, 0, 0],\n       [0, 0, 0,..., ..., 0, 0, 0],\n       [1, 0, 0, ..., 0, 0, 0]]), beta=1, labels=None, pos_label=None, average='weighted', warn_for=('f-score',), sample_weight=None)\n   1020         raise ValueError('average has to be one of ' +\n   1021                          str(average_options))\n   1022     if beta <= 0:\n   1023         raise ValueError(\"beta should be >0 in the F-beta score\")\n   1024 \n-> 1025     y_type, y_true, y_pred = _check_targets(y_true, y_pred)\n        y_type = undefined\n        y_true = memmap([[0, 0, 0, ..., 0, 0, 0],\n        [0, 0, ... ..., 0, 0, 0],\n        [1, 0, 0, ..., 0, 0, 0]])\n        y_pred = array([[0, 0, 0, ..., 0, 0, 0],\n       [0, 0, 0,..., ..., 0, 0, 0],\n       [1, 0, 0, ..., 0, 0, 0]])\n   1026     present_labels = unique_labels(y_true, y_pred)\n   1027 \n   1028     if average == 'binary':\n   1029         if y_type == 'binary':\n\n...........................................................................\n/Users/vickieliu/anaconda/lib/python3.5/site-packages/sklearn/metrics/classification.py in _check_targets(y_true=memmap([[0, 0, 0, ..., 0, 0, 0],\n        [0, 0, ... ..., 0, 0, 0],\n        [1, 0, 0, ..., 0, 0, 0]]), y_pred=array([[0, 0, 0, ..., 0, 0, 0],\n       [0, 0, 0,..., ..., 0, 0, 0],\n       [1, 0, 0, ..., 0, 0, 0]]))\n     83     # We can't have more than one value on y_type => The set is no more needed\n     84     y_type = y_type.pop()\n     85 \n     86     # No metrics support \"multiclass-multioutput\" format\n     87     if (y_type not in [\"binary\", \"multiclass\", \"multilabel-indicator\"]):\n---> 88         raise ValueError(\"{0} is not supported\".format(y_type))\n        y_type = 'multiclass-multioutput'\n     89 \n     90     if y_type in [\"binary\", \"multiclass\"]:\n     91         y_true = column_or_1d(y_true)\n     92         y_pred = column_or_1d(y_pred)\n\nValueError: multiclass-multioutput is not supported\n___________________________________________________________________________"
     ]
    }
   ],
   "source": [
    "%%time\n",
    "\n",
    "model = build_model()\n",
    "model.fit(X_train, y_train)"
   ]
  },
  {
   "cell_type": "code",
   "execution_count": 11,
   "metadata": {
    "collapsed": false
   },
   "outputs": [
    {
     "ename": "AttributeError",
     "evalue": "'GridSearchCV' object has no attribute 'best_estimator_'",
     "output_type": "error",
     "traceback": [
      "\u001b[0;31m---------------------------------------------------------------------------\u001b[0m",
      "\u001b[0;31mAttributeError\u001b[0m                            Traceback (most recent call last)",
      "\u001b[0;32m<ipython-input-11-27c3fc0e8ecb>\u001b[0m in \u001b[0;36m<module>\u001b[0;34m()\u001b[0m\n\u001b[0;32m----> 1\u001b[0;31m \u001b[0mmodel\u001b[0m\u001b[0;34m.\u001b[0m\u001b[0mbest_estimator_\u001b[0m\u001b[0;34m\u001b[0m\u001b[0m\n\u001b[0m",
      "\u001b[0;31mAttributeError\u001b[0m: 'GridSearchCV' object has no attribute 'best_estimator_'"
     ]
    }
   ],
   "source": [
    "model.best_estimator_"
   ]
  },
  {
   "cell_type": "code",
   "execution_count": null,
   "metadata": {
    "collapsed": true
   },
   "outputs": [],
   "source": [
    "cv.best_score_"
   ]
  },
  {
   "cell_type": "code",
   "execution_count": null,
   "metadata": {
    "collapsed": true
   },
   "outputs": [],
   "source": [
    "cv.best_params_"
   ]
  },
  {
   "cell_type": "code",
   "execution_count": null,
   "metadata": {
    "collapsed": true
   },
   "outputs": [],
   "source": [
    "y_pred = cv.predict(X_test)"
   ]
  },
  {
   "cell_type": "markdown",
   "metadata": {},
   "source": [
    "### 7. 测试模型\n",
    "打印微调后的模型的精确度、准确率和召回率。  \n",
    "\n",
    "因为本项目主要关注代码质量、开发流程和管道技术，所有没有模型性能指标的最低要求。但是，微调模型提高精确度、准确率和召回率可以让你的项目脱颖而出——特别是让你的简历更出彩。"
   ]
  },
  {
   "cell_type": "code",
   "execution_count": null,
   "metadata": {
    "collapsed": true
   },
   "outputs": [],
   "source": [
    "for i in range(0,35):\n",
    "    print(\"Categories:\", categories[i])\n",
    "    print(classification_report(y_test[:,i], y_pred[:,i]))"
   ]
  },
  {
   "cell_type": "markdown",
   "metadata": {},
   "source": [
    "### 8. 继续优化模型，比如：\n",
    "* 尝试其他的机器学习算法\n",
    "* 尝试除 TF-IDF 外其他的特征"
   ]
  },
  {
   "cell_type": "code",
   "execution_count": null,
   "metadata": {
    "collapsed": true
   },
   "outputs": [],
   "source": []
  },
  {
   "cell_type": "markdown",
   "metadata": {},
   "source": [
    "### 9. 导出模型为 pickle file"
   ]
  },
  {
   "cell_type": "code",
   "execution_count": null,
   "metadata": {
    "collapsed": true
   },
   "outputs": [],
   "source": [
    "# 保存至本地磁盘\n",
    "with open('model.pkl', 'wb') as file:\n",
    "    pickle.dump(clf, file)\n"
   ]
  },
  {
   "cell_type": "code",
   "execution_count": null,
   "metadata": {
    "collapsed": true
   },
   "outputs": [],
   "source": [
    "# 从本地磁盘加载模型\n",
    "with open('model.pkl', 'rb') as file:\n",
    "    model_joblib = pickle.load(file)\n",
    "# 加载出来的模型可以进行predict等功能\n",
    "print(model_joblib.predict([[4, 6, 10]]))"
   ]
  },
  {
   "cell_type": "markdown",
   "metadata": {},
   "source": [
    "### 10. Use this notebook to complete `train.py`\n",
    "使用资源 (Resources)文件里附带的模板文件编写脚本，运行上述步骤，创建一个数据库，并基于用户指定的新数据集输出一个模型。"
   ]
  },
  {
   "cell_type": "code",
   "execution_count": null,
   "metadata": {
    "collapsed": true
   },
   "outputs": [],
   "source": []
  }
 ],
 "metadata": {
  "anaconda-cloud": {},
  "kernelspec": {
   "display_name": "Python [default]",
   "language": "python",
   "name": "python3"
  },
  "language_info": {
   "codemirror_mode": {
    "name": "ipython",
    "version": 3
   },
   "file_extension": ".py",
   "mimetype": "text/x-python",
   "name": "python",
   "nbconvert_exporter": "python",
   "pygments_lexer": "ipython3",
   "version": "3.5.2"
  }
 },
 "nbformat": 4,
 "nbformat_minor": 2
}
